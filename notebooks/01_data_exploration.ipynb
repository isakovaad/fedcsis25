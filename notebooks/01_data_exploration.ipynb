{
 "cells": [
  {
   "cell_type": "markdown",
   "id": "2c83895e-2fbb-4bb4-9c63-281245c6d71a",
   "metadata": {},
   "source": [
    "# 1. Data Exploration"
   ]
  },
  {
   "cell_type": "code",
   "execution_count": 1,
   "id": "ccce33b4-09ec-4f2d-9ddb-3c44d954a12f",
   "metadata": {},
   "outputs": [],
   "source": [
    "import pandas as pd\n",
    "import numpy as np\n",
    "import matplotlib.pyplot as plt"
   ]
  },
  {
   "cell_type": "code",
   "execution_count": 2,
   "id": "bd7385e9-d99a-4c7c-b7d4-d3061582980b",
   "metadata": {},
   "outputs": [
    {
     "name": "stdout",
     "output_type": "stream",
     "text": [
      "Training data shape: (4557000, 32)\n",
      "Test data shape: (2235, 25)\n",
      "Training columns: ['PuzzleId', 'FEN', 'Moves', 'Rating', 'RatingDeviation', 'Popularity', 'NbPlays', 'Themes', 'GameUrl', 'OpeningTags', 'success_prob_rapid_1050', 'success_prob_rapid_1150', 'success_prob_rapid_1250', 'success_prob_rapid_1350', 'success_prob_rapid_1450', 'success_prob_rapid_1550', 'success_prob_rapid_1650', 'success_prob_rapid_1750', 'success_prob_rapid_1850', 'success_prob_rapid_1950', 'success_prob_rapid_2050', 'success_prob_blitz_1050', 'success_prob_blitz_1150', 'success_prob_blitz_1250', 'success_prob_blitz_1350', 'success_prob_blitz_1450', 'success_prob_blitz_1550', 'success_prob_blitz_1650', 'success_prob_blitz_1750', 'success_prob_blitz_1850', 'success_prob_blitz_1950', 'success_prob_blitz_2050']\n"
     ]
    }
   ],
   "source": [
    "# Load data\n",
    "train_df = pd.read_csv('training_data_02_01.csv')\n",
    "test_df = pd.read_csv('testing_data_cropped.csv')\n",
    "\n",
    "print(f\"Training data shape: {train_df.shape}\")\n",
    "print(f\"Test data shape: {test_df.shape}\")\n",
    "print(f\"Training columns: {list(train_df.columns)}\")"
   ]
  },
  {
   "cell_type": "code",
   "execution_count": 3,
   "id": "289868da-880a-48d1-9914-871d12b280d3",
   "metadata": {},
   "outputs": [
    {
     "name": "stdout",
     "output_type": "stream",
     "text": [
      "Missing values in training data:\n",
      "PuzzleId                         0\n",
      "FEN                              0\n",
      "Moves                            0\n",
      "Rating                           0\n",
      "RatingDeviation                  0\n",
      "Popularity                       0\n",
      "NbPlays                          0\n",
      "Themes                           0\n",
      "GameUrl                          0\n",
      "OpeningTags                3576326\n",
      "success_prob_rapid_1050          0\n",
      "success_prob_rapid_1150          0\n",
      "success_prob_rapid_1250          0\n",
      "success_prob_rapid_1350          0\n",
      "success_prob_rapid_1450          0\n",
      "success_prob_rapid_1550          0\n",
      "success_prob_rapid_1650          0\n",
      "success_prob_rapid_1750          0\n",
      "success_prob_rapid_1850          0\n",
      "success_prob_rapid_1950          0\n",
      "success_prob_rapid_2050          0\n",
      "success_prob_blitz_1050          0\n",
      "success_prob_blitz_1150          0\n",
      "success_prob_blitz_1250          0\n",
      "success_prob_blitz_1350          0\n",
      "success_prob_blitz_1450          0\n",
      "success_prob_blitz_1550          0\n",
      "success_prob_blitz_1650          0\n",
      "success_prob_blitz_1750          0\n",
      "success_prob_blitz_1850          0\n",
      "success_prob_blitz_1950          0\n",
      "success_prob_blitz_2050          0\n",
      "dtype: int64\n"
     ]
    },
    {
     "data": {
      "image/png": "[encoded data removed]",
      "text/plain": [
       "<Figure size 1000x600 with 1 Axes>"
      ]
     },
     "metadata": {},
     "output_type": "display_data"
    },
    {
     "name": "stdout",
     "output_type": "stream",
     "text": [
      "Rating statistics:\n",
      "count    4.557000e+06\n",
      "mean     1.500559e+03\n",
      "std      5.441784e+02\n",
      "min      3.990000e+02\n",
      "25%      1.071000e+03\n",
      "50%      1.461000e+03\n",
      "75%      1.903000e+03\n",
      "max      3.284000e+03\n",
      "Name: Rating, dtype: float64\n"
     ]
    }
   ],
   "source": [
    "# Check for missing values\n",
    "print(\"Missing values in training data:\")\n",
    "print(train_df.isnull().sum())\n",
    "\n",
    "# Examine target variable distribution\n",
    "plt.figure(figsize=(10, 6))\n",
    "plt.hist(train_df['Rating'], bins=50, alpha=0.7)\n",
    "plt.title('Distribution of Chess Puzzle Ratings')\n",
    "plt.xlabel('Rating')\n",
    "plt.ylabel('Frequency')\n",
    "plt.show()\n",
    "\n",
    "print(f\"Rating statistics:\")\n",
    "print(train_df['Rating'].describe())"
   ]
  },
  {
   "cell_type": "markdown",
   "id": "e074b612-8c5d-468e-83e8-526562aa3293",
   "metadata": {},
   "source": [
    "# 2. Data Preprocessing"
   ]
  },
  {
   "cell_type": "code",
   "execution_count": 4,
   "id": "e58c1efe-155f-4382-8478-f342905df69f",
   "metadata": {},
   "outputs": [],
   "source": [
    "def preprocess_basic_data(df):\n",
    "    \"\"\"Basic preprocessing for missing values and data types\"\"\"\n",
    "    # Handle missing values\n",
    "    df = df.copy()\n",
    "    \n",
    "    # Fill missing success probabilities with 0\n",
    "    success_cols = [col for col in df.columns if 'success_prob' in col]\n",
    "    df[success_cols] = df[success_cols].fillna(0)\n",
    "    \n",
    "    # Fill missing numerical columns\n",
    "    numerical_cols = ['RatingDeviation', 'Popularity', 'NbPlays']\n",
    "    for col in numerical_cols:\n",
    "        if col in df.columns:\n",
    "            df[col] = df[col].fillna(0)\n",
    "    \n",
    "    # Fill missing text columns\n",
    "    text_cols = ['Themes', 'OpeningTags']\n",
    "    for col in text_cols:\n",
    "        if col in df.columns:\n",
    "            df[col] = df[col].fillna('')\n",
    "    \n",
    "    return df\n",
    "\n",
    "# Apply preprocessing\n",
    "train_clean = preprocess_basic_data(train_df)\n",
    "test_clean = preprocess_basic_data(test_df)"
   ]
  },
  {
   "cell_type": "code",
   "execution_count": 6,
   "id": "0155b745-caf5-4f8e-b129-a60022e0d11a",
   "metadata": {},
   "outputs": [
    {
     "name": "stdout",
     "output_type": "stream",
     "text": [
      "Cleaned data saved!\n"
     ]
    }
   ],
   "source": [
    "# Save cleaned data\n",
    "train_clean.to_csv('train_cleaned.csv', index=False)\n",
    "test_clean.to_csv('test_cleaned.csv', index=False)\n",
    "print(\"Cleaned data saved!\")"
   ]
  },
  {
   "cell_type": "markdown",
   "id": "f7957b3a-2827-4388-965b-93c4e2fa975a",
   "metadata": {},
   "source": [
    "# 3. Baseline Model"
   ]
  },
  {
   "cell_type": "code",
   "execution_count": 8,
   "id": "07a6ed35-4b45-4870-a1c2-8612b2f8f648",
   "metadata": {},
   "outputs": [
    {
     "name": "stdout",
     "output_type": "stream",
     "text": [
      "Created 36 features\n"
     ]
    }
   ],
   "source": [
    "def create_quick_features(df):\n",
    "    \"\"\"Create quick features for immediate baseline\"\"\"\n",
    "    features = pd.DataFrame()\n",
    "    features['PuzzleId'] = df['PuzzleId']\n",
    "    \n",
    "    # Success probability features (MOST IMPORTANT!)\n",
    "    success_cols = [col for col in df.columns if 'success_prob' in col]\n",
    "    for col in success_cols:\n",
    "        features[col] = df[col]\n",
    "    \n",
    "    # Success probability statistics\n",
    "    rapid_cols = [col for col in success_cols if 'rapid' in col]\n",
    "    blitz_cols = [col for col in success_cols if 'blitz' in col]\n",
    "    \n",
    "    if rapid_cols:\n",
    "        features['rapid_mean'] = df[rapid_cols].mean(axis=1)\n",
    "        features['rapid_std'] = df[rapid_cols].std(axis=1).fillna(0)\n",
    "        features['rapid_min'] = df[rapid_cols].min(axis=1)\n",
    "        features['rapid_max'] = df[rapid_cols].max(axis=1)\n",
    "    \n",
    "    if blitz_cols:\n",
    "        features['blitz_mean'] = df[blitz_cols].mean(axis=1)\n",
    "        features['blitz_std'] = df[blitz_cols].std(axis=1).fillna(0)\n",
    "        features['blitz_min'] = df[blitz_cols].min(axis=1)\n",
    "        features['blitz_max'] = df[blitz_cols].max(axis=1)\n",
    "    \n",
    "    # Basic move features\n",
    "    features['move_count'] = df['Moves'].fillna('').str.split().str.len()\n",
    "    features['has_captures'] = df['Moves'].fillna('').str.contains('x').astype(int)\n",
    "    features['has_checks'] = df['Moves'].fillna('').str.contains(r'\\+').astype(int)\n",
    "    \n",
    "    # Metadata features (if available)\n",
    "    if 'NbPlays' in df.columns:\n",
    "        features['nb_plays'] = df['NbPlays']\n",
    "        features['log_nb_plays'] = np.log1p(df['NbPlays'])\n",
    "    else:\n",
    "        features['nb_plays'] = 0\n",
    "        features['log_nb_plays'] = 0\n",
    "    \n",
    "    if 'Popularity' in df.columns:\n",
    "        features['popularity'] = df['Popularity']\n",
    "    else:\n",
    "        features['popularity'] = 0\n",
    "    \n",
    "    return features\n",
    "\n",
    "# Create quick features\n",
    "train_features = create_quick_features(train_clean)\n",
    "test_features = create_quick_features(test_clean)\n",
    "\n",
    "print(f\"Created {len(train_features.columns)-1} features\")"
   ]
  },
  {
   "cell_type": "markdown",
   "id": "b7667e7b-d300-4bd6-8bad-b7842f8c6ac9",
   "metadata": {},
   "source": [
    "## 3.1 Train Quick Baseline"
   ]
  },
  {
   "cell_type": "markdown",
   "id": "92632988-4357-48b7-88dc-58533b2ae132",
   "metadata": {},
   "source": [
    "this model RandomForest took ages, so i quit it, was a bad try. "
   ]
  },
  {
   "cell_type": "code",
   "execution_count": null,
   "id": "a10329bd-c5d1-4815-8034-4c998db59072",
   "metadata": {},
   "outputs": [],
   "source": [
    "from sklearn.model_selection import train_test_split\n",
    "from sklearn.ensemble import RandomForestRegressor\n",
    "from sklearn.metrics import mean_squared_error\n",
    "import numpy as np\n",
    "\n",
    "# Prepare data\n",
    "X = train_features.drop(['PuzzleId'], axis=1)\n",
    "y = train_clean['Rating']\n",
    "\n",
    "# Split for validation\n",
    "X_train, X_val, y_train, y_val = train_test_split(X, y, test_size=0.2, random_state=42)\n",
    "\n",
    "# Train simple model\n",
    "model = RandomForestRegressor(n_estimators=100, random_state=42, n_jobs=-1)\n",
    "model.fit(X_train, y_train)\n",
    "\n",
    "# Evaluate\n",
    "val_pred = model.predict(X_val)\n",
    "val_mse = mean_squared_error(y_val, val_pred)\n",
    "val_rmse = np.sqrt(val_mse)\n",
    "\n",
    "print(f\"Validation MSE: {val_mse:.2f}\")\n",
    "print(f\"Validation RMSE: {val_rmse:.2f}\")\n",
    "\n",
    "# Feature importance\n",
    "feature_importance = pd.DataFrame({\n",
    "    'feature': X.columns,\n",
    "    'importance': model.feature_importances_\n",
    "}).sort_values('importance', ascending=False)\n",
    "\n",
    "print(\"\\nTop 10 Most Important Features:\")\n",
    "print(feature_importance.head(10))"
   ]
  },
  {
   "cell_type": "code",
   "execution_count": 20,
   "id": "929b73ac-f381-4d5f-9256-e1938d0deed2",
   "metadata": {},
   "outputs": [],
   "source": [
    "import xgboost as xgb\n",
    "from sklearn.model_selection import train_test_split\n",
    "from sklearn.metrics import mean_squared_error\n",
    "import numpy as np\n",
    "import time"
   ]
  },
  {
   "cell_type": "code",
   "execution_count": 21,
   "id": "19640075-5a73-4312-a1ec-0ad1010b3183",
   "metadata": {},
   "outputs": [
    {
     "name": "stdout",
     "output_type": "stream",
     "text": [
      "Ultra-fast XGBoost baseline with 100000 samples...\n",
      "XGBoost training completed in 0.45 seconds\n",
      "Validation MSE: 113602.87\n",
      "Validation RMSE: 337.05\n",
      "\n",
      "Top 10 Most Important Features:\n",
      "                    feature  importance\n",
      "1   success_prob_rapid_1150    0.591820\n",
      "0   success_prob_rapid_1050    0.132778\n",
      "11  success_prob_blitz_1050    0.110418\n",
      "30               move_count    0.035618\n",
      "24                rapid_min    0.019100\n",
      "35               popularity    0.015718\n",
      "33                 nb_plays    0.011742\n",
      "25                rapid_max    0.007392\n",
      "29                blitz_max    0.005815\n",
      "21  success_prob_blitz_2050    0.004699\n"
     ]
    }
   ],
   "source": [
    "def ultra_fast_xgboost_baseline(train_features, train_clean, sample_size=100000):\n",
    "    print(f\"Ultra-fast XGBoost baseline with {sample_size} samples...\")\n",
    "    \n",
    "    # Sample the data\n",
    "    sample_indices = np.random.choice(len(train_features), size=min(sample_size, len(train_features)), replace=False)\n",
    "    X_sample = train_features.drop(['PuzzleId'], axis=1).iloc[sample_indices]\n",
    "    y_sample = train_clean['Rating'].iloc[sample_indices]\n",
    "    \n",
    "    # Split for validation\n",
    "    X_train, X_val, y_train, y_val = train_test_split(X_sample, y_sample, test_size=0.2, random_state=42)\n",
    "    \n",
    "    # XGBoost \n",
    "    start_time = time.time()\n",
    "    model = xgb.XGBRegressor(\n",
    "        n_estimators=100,\n",
    "        max_depth=6,\n",
    "        learning_rate=0.1,\n",
    "        random_state=42,\n",
    "        n_jobs=-1,\n",
    "        verbosity=0  # Suppress output\n",
    "    )\n",
    "    model.fit(X_train, y_train)\n",
    "    training_time = time.time() - start_time\n",
    "    print(f\"XGBoost training completed in {training_time:.2f} seconds\")\n",
    "    \n",
    "    # Evaluate\n",
    "    val_pred = model.predict(X_val)\n",
    "    val_mse = mean_squared_error(y_val, val_pred)\n",
    "    val_rmse = np.sqrt(val_mse)\n",
    "    print(f\"Validation MSE: {val_mse:.2f}\")\n",
    "    print(f\"Validation RMSE: {val_rmse:.2f}\")\n",
    "    \n",
    "    # Feature importance\n",
    "    feature_importance = pd.DataFrame({\n",
    "        'feature': X_sample.columns,\n",
    "        'importance': model.feature_importances_\n",
    "    }).sort_values('importance', ascending=False)\n",
    "    \n",
    "    print(\"\\nTop 10 Most Important Features:\")\n",
    "    print(feature_importance.head(10))\n",
    "    \n",
    "    return model, feature_importance\n",
    "\n",
    "# Actually call the function here!\n",
    "model, feature_importance = ultra_fast_xgboost_baseline(train_features, train_clean)"
   ]
  },
  {
   "cell_type": "markdown",
   "id": "a55fb481-654a-4e50-a787-2ddc1e0df896",
   "metadata": {},
   "source": [
    "### First Submission"
   ]
  },
  {
   "cell_type": "code",
   "execution_count": null,
   "id": "bd119fba-ba21-46c5-8e89-98a8728971e0",
   "metadata": {},
   "outputs": [],
   "source": [
    "# Make predictions on test set\n",
    "X_test = test_features.drop(['PuzzleId'], axis=1)\n",
    "test_predictions = model.predict(X_test)\n",
    "\n",
    "# Round to integers as required\n",
    "test_predictions = np.round(test_predictions).astype(int)\n",
    "\n",
    "# Save submission\n",
    "with open('results/baseline_submission.txt', 'w') as f:\n",
    "    for pred in test_predictions:\n",
    "        f.write(f\"{pred}\\n\")\n",
    "\n",
    "print(f\"Baseline submission saved!\")\n",
    "print(f\"Prediction range: {test_predictions.min()} to {test_predictions.max()}\")\n",
    "print(f\"Mean prediction: {test_predictions.mean():.1f}\")"
   ]
  },
  {
   "cell_type": "markdown",
   "id": "fde165c7-858b-44ed-96c1-0b1c51fa13dc",
   "metadata": {},
   "source": [
    "#  4. Feature Engineering\n",
    "- Chess-Specific Features"
   ]
  },
  {
   "cell_type": "code",
   "execution_count": null,
   "id": "56698f05-89e6-4fc6-ba04-c1fa39ea67af",
   "metadata": {},
   "outputs": [],
   "source": [
    "import chess\n",
    "\n",
    "def extract_fen_features(fen_string):\n",
    "    \"\"\"Extract features from FEN string\"\"\"\n",
    "    if pd.isna(fen_string):\n",
    "        return {}\n",
    "    \n",
    "    try:\n",
    "        board = chess.Board(fen_string)\n",
    "        features = {}\n",
    "        \n",
    "        # Material count\n",
    "        piece_values = {'p': 1, 'n': 3, 'b': 3, 'r': 5, 'q': 9}\n",
    "        white_material = black_material = 0\n",
    "        \n",
    "        for square in chess.SQUARES:\n",
    "            piece = board.piece_at(square)\n",
    "            if piece:\n",
    "                value = piece_values.get(piece.symbol().lower(), 0)\n",
    "                if piece.color:\n",
    "                    white_material += value\n",
    "                else:\n",
    "                    black_material += value\n",
    "        \n",
    "        features['white_material'] = white_material\n",
    "        features['black_material'] = black_material\n",
    "        features['material_balance'] = white_material - black_material\n",
    "        features['total_material'] = white_material + black_material\n",
    "        \n",
    "        # Game state\n",
    "        features['white_to_move'] = int(board.turn)\n",
    "        features['in_check'] = int(board.is_check())\n",
    "        features['num_legal_moves'] = len(list(board.legal_moves))\n",
    "        \n",
    "        return features\n",
    "    except:\n",
    "        return {}\n",
    "\n",
    "def extract_move_features(moves_string):\n",
    "    \"\"\"Extract features from move sequence\"\"\"\n",
    "    if pd.isna(moves_string):\n",
    "        return {}\n",
    "    \n",
    "    moves = moves_string.strip().split()\n",
    "    features = {}\n",
    "    \n",
    "    features['move_count'] = len(moves)\n",
    "    features['captures_count'] = sum(1 for move in moves if 'x' in move)\n",
    "    features['checks_count'] = sum(1 for move in moves if '+' in move)\n",
    "    features['castling_count'] = sum(1 for move in moves if move in ['O-O', 'O-O-O'])\n",
    "    features['promotion_count'] = sum(1 for move in moves if '=' in move)\n",
    "    \n",
    "    return features\n",
    "\n",
    "# Apply advanced feature engineering\n",
    "def create_advanced_features(df):\n",
    "    \"\"\"Create comprehensive feature set\"\"\"\n",
    "    print(\"Creating advanced features...\")\n",
    "    \n",
    "    # Start with quick features\n",
    "    features = create_quick_features(df)\n",
    "    \n",
    "    # Add FEN features\n",
    "    fen_features_list = []\n",
    "    for idx, row in df.iterrows():\n",
    "        if idx % 1000 == 0:\n",
    "            print(f\"Processing FEN {idx}/{len(df)}\")\n",
    "        fen_feat = extract_fen_features(row['FEN'])\n",
    "        fen_features_list.append(fen_feat)\n",
    "    \n",
    "    fen_df = pd.DataFrame(fen_features_list).fillna(0)\n",
    "    \n",
    "    # Add move features\n",
    "    move_features_list = []\n",
    "    for idx, row in df.iterrows():\n",
    "        if idx % 1000 == 0:\n",
    "            print(f\"Processing moves {idx}/{len(df)}\")\n",
    "        move_feat = extract_move_features(row['Moves'])\n",
    "        move_features_list.append(move_feat)\n",
    "    \n",
    "    move_df = pd.DataFrame(move_features_list).fillna(0)\n",
    "    \n",
    "    # Combine all features\n",
    "    combined_features = pd.concat([features, fen_df, move_df], axis=1)\n",
    "    \n",
    "    return combined_features\n",
    "\n",
    "# This will take some time - run on a subset first to test\n",
    "print(\"Creating advanced features (this may take a while)...\")\n",
    "# Start with subset for testing\n",
    "subset_size = 10000\n",
    "train_advanced = create_advanced_features(train_clean.head(subset_size))"
   ]
  }
 ],
 "metadata": {
  "kernelspec": {
   "display_name": "Python 3 (ipykernel)",
   "language": "python",
   "name": "python3"
  },
  "language_info": {
   "codemirror_mode": {
    "name": "ipython",
    "version": 3
   },
   "file_extension": ".py",
   "mimetype": "text/x-python",
   "name": "python",
   "nbconvert_exporter": "python",
   "pygments_lexer": "ipython3",
   "version": "3.12.7"
  }
 },
 "nbformat": 4,
 "nbformat_minor": 5
}
