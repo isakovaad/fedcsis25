{
 "cells": [
  {
   "cell_type": "code",
   "execution_count": 1,
   "id": "2e1fd3b2-dc6a-4772-afc2-32bc4c5fd405",
   "metadata": {},
   "outputs": [
    {
     "data": {
      "text/plain": [
       "'fedcsis25!'"
      ]
     },
     "execution_count": 1,
     "metadata": {},
     "output_type": "execute_result"
    }
   ],
   "source": [
    "from fedcsis25 import hello\n",
    "hello()"
   ]
  },
  {
   "cell_type": "code",
   "execution_count": null,
   "id": "08560d3c-aabf-4138-90b2-c424d5ec09c0",
   "metadata": {},
   "outputs": [],
   "source": []
  }
 ],
 "metadata": {
  "kernelspec": {
   "display_name": "Python (fedcsis25)",
   "language": "python",
   "name": "fedcsis25"
  },
  "language_info": {
   "codemirror_mode": {
    "name": "ipython",
    "version": 3
   },
   "file_extension": ".py",
   "mimetype": "text/x-python",
   "name": "python",
   "nbconvert_exporter": "python",
   "pygments_lexer": "ipython3",
   "version": "3.13.0"
  }
 },
 "nbformat": 4,
 "nbformat_minor": 5
}
