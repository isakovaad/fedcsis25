{
 "cells": [
  {
   "cell_type": "code",
   "execution_count": 30,
   "id": "08560d3c-aabf-4138-90b2-c424d5ec09c0",
   "metadata": {},
   "outputs": [],
   "source": [
    "from fedcsis25 import generate_fen_features\n",
    "from fedcsis25 import hello\n",
    "from fedcsis25 import feature_engineering"
   ]
  },
  {
   "cell_type": "code",
   "execution_count": 32,
   "id": "51e9f759",
   "metadata": {},
   "outputs": [],
   "source": [
    "import pandas as pd\n",
    "import numpy as np\n"
   ]
  },
  {
   "cell_type": "code",
   "execution_count": null,
   "id": "e371b351",
   "metadata": {},
   "outputs": [
    {
     "data": {
      "application/vnd.microsoft.datawrangler.viewer.v0+json": {
       "columns": [
        {
         "name": "index",
         "rawType": "int64",
         "type": "integer"
        },
        {
         "name": "PuzzleId",
         "rawType": "object",
         "type": "string"
        },
        {
         "name": "FEN",
         "rawType": "object",
         "type": "string"
        },
        {
         "name": "Moves",
         "rawType": "object",
         "type": "string"
        },
        {
         "name": "Rating",
         "rawType": "int64",
         "type": "integer"
        },
        {
         "name": "RatingDeviation",
         "rawType": "int64",
         "type": "integer"
        },
        {
         "name": "Popularity",
         "rawType": "int64",
         "type": "integer"
        },
        {
         "name": "NbPlays",
         "rawType": "int64",
         "type": "integer"
        },
        {
         "name": "Themes",
         "rawType": "object",
         "type": "string"
        },
        {
         "name": "GameUrl",
         "rawType": "object",
         "type": "string"
        },
        {
         "name": "OpeningTags",
         "rawType": "object",
         "type": "unknown"
        },
        {
         "name": "success_prob_rapid_1050",
         "rawType": "float64",
         "type": "float"
        },
        {
         "name": "success_prob_rapid_1150",
         "rawType": "float64",
         "type": "float"
        },
        {
         "name": "success_prob_rapid_1250",
         "rawType": "float64",
         "type": "float"
        },
        {
         "name": "success_prob_rapid_1350",
         "rawType": "float64",
         "type": "float"
        },
        {
         "name": "success_prob_rapid_1450",
         "rawType": "float64",
         "type": "float"
        },
        {
         "name": "success_prob_rapid_1550",
         "rawType": "float64",
         "type": "float"
        },
        {
         "name": "success_prob_rapid_1650",
         "rawType": "float64",
         "type": "float"
        },
        {
         "name": "success_prob_rapid_1750",
         "rawType": "float64",
         "type": "float"
        },
        {
         "name": "success_prob_rapid_1850",
         "rawType": "float64",
         "type": "float"
        },
        {
         "name": "success_prob_rapid_1950",
         "rawType": "float64",
         "type": "float"
        },
        {
         "name": "success_prob_rapid_2050",
         "rawType": "float64",
         "type": "float"
        },
        {
         "name": "success_prob_blitz_1050",
         "rawType": "float64",
         "type": "float"
        },
        {
         "name": "success_prob_blitz_1150",
         "rawType": "float64",
         "type": "float"
        },
        {
         "name": "success_prob_blitz_1250",
         "rawType": "float64",
         "type": "float"
        },
        {
         "name": "success_prob_blitz_1350",
         "rawType": "float64",
         "type": "float"
        },
        {
         "name": "success_prob_blitz_1450",
         "rawType": "float64",
         "type": "float"
        },
        {
         "name": "success_prob_blitz_1550",
         "rawType": "float64",
         "type": "float"
        },
        {
         "name": "success_prob_blitz_1650",
         "rawType": "float64",
         "type": "float"
        },
        {
         "name": "success_prob_blitz_1750",
         "rawType": "float64",
         "type": "float"
        },
        {
         "name": "success_prob_blitz_1850",
         "rawType": "float64",
         "type": "float"
        },
        {
         "name": "success_prob_blitz_1950",
         "rawType": "float64",
         "type": "float"
        },
        {
         "name": "success_prob_blitz_2050",
         "rawType": "float64",
         "type": "float"
        }
       ],
       "ref": "e990cd1c-26a4-4b86-907a-e2cc3fcd6de9",
       "rows": [
        [
         "0",
         "00008",
         "r6k/pp2r2p/4Rp1Q/3p4/8/1N1P2R1/PqP2bPP/7K b - - 0 24",
         "f2g3 e6e7 b2b1 b3c1 b1c1 h6c1",
         "1902",
         "76",
         "95",
         "7226",
         "crushing hangingPiece long middlegame",
         "https://lichess.org/787zsVup/black#48",
         null,
         "0.16142186256",
         "0.1211242373039999",
         "0.12445170514",
         "0.1071458031239999",
         "0.100395522864",
         "0.085828076226",
         "0.0918585252199999",
         "0.0898640247",
         "0.093837612312",
         "0.0978300658919999",
         "0.0954601818239999",
         "0.2480058670639999",
         "0.2188178265",
         "0.20965329144",
         "0.186691030075",
         "0.1644905525599999",
         "0.1526780407039999",
         "0.1404353612559999",
         "0.136795666634",
         "0.12951951654",
         "0.119234486016",
         "0.1177518074879999"
        ],
        [
         "1",
         "0000D",
         "5rk1/1p3ppp/pq3b2/8/8/1P1Q1N2/P4PPP/3R2K1 w - - 2 27",
         "d3d6 f8d8 d6d8 f6d8",
         "1512",
         "74",
         "96",
         "29629",
         "advantage endgame short",
         "https://lichess.org/F8M8OS71#53",
         null,
         "0.04403509",
         "0.03549998",
         "0.030101",
         "0.02382612",
         "0.02111472",
         "0.01767248",
         "0.0151003",
         "0.01246312",
         "0.01107081",
         "0.0090041",
         "0.00682428",
         "0.04894274",
         "0.0342103999999999",
         "0.02836724",
         "0.0228168999999999",
         "0.01867733",
         "0.0155652199999999",
         "0.0126765",
         "0.00988668",
         "0.0080778899999999",
         "0.0065257499999999",
         "0.00473844"
        ],
        [
         "2",
         "0008Q",
         "8/4R3/1p2P3/p4r2/P6p/1P3Pk1/4K3/8 w - - 1 64",
         "e7f7 f5e5 e2f1 e5e6",
         "1300",
         "75",
         "90",
         "666",
         "advantage endgame rookEndgame short",
         "https://lichess.org/MQSyb3KW#127",
         null,
         "0.59519109",
         "0.70451374",
         "0.73190436",
         "0.7523734200000001",
         "0.7715939399999999",
         "0.7786175999999999",
         "0.7953057",
         "0.7904626",
         "0.78931355",
         "0.77902249",
         "0.75517116",
         "0.633612",
         "0.69239901",
         "0.68911213",
         "0.70635537",
         "0.71482554",
         "0.72092924",
         "0.71958936",
         "0.7217709600000001",
         "0.71056681",
         "0.7195682999999999",
         "0.68581032"
        ],
        [
         "3",
         "0009B",
         "r2qr1k1/b1p2ppp/pp4n1/P1P1p3/4P1n1/B2P2Pb/3NBP1P/RN1QR1K1 b - - 1 16",
         "b6c5 e2g4 h3g4 d1g4",
         "1078",
         "74",
         "87",
         "573",
         "advantage middlegame short",
         "https://lichess.org/4MWQCxQ6/black#32",
         "Kings_Pawn_Game Kings_Pawn_Game_Leonardis_Variation",
         "0.59432328",
         "0.7373526",
         "0.7695260799999999",
         "0.80075158",
         "0.8156905999999999",
         "0.83203208",
         "0.82673554",
         "0.81896259",
         "0.81010404",
         "0.8072946",
         "0.7786137599999999",
         "0.60556783",
         "0.673641",
         "0.67649664",
         "0.67985838",
         "0.68157826",
         "0.67230192",
         "0.67979844",
         "0.6602235900000001",
         "0.64237248",
         "0.62927004",
         "0.6365988300000001"
        ],
        [
         "4",
         "000VW",
         "r4r2/1p3pkp/p5p1/3R1N1Q/3P4/8/P1q2P2/3R2K1 b - - 3 25",
         "g6f5 d5c5 c2e4 h5g5 g7h8 g5f6",
         "2877",
         "100",
         "91",
         "154",
         "crushing endgame long",
         "https://lichess.org/e9AY2m5j/black#50",
         null,
         "0.0002672631",
         "0.0001431857",
         "0.0001308869639999",
         "0.00010840515",
         "9.7617536e-05",
         "9.2050959e-05",
         "8.575987200000002e-05",
         "8.667144e-05",
         "8.6605686e-05",
         "9.076236e-05",
         "9.56088e-05",
         "0.0002818955519999",
         "0.000228354672",
         "0.0002136192799999",
         "0.0001932014239999",
         "0.000181898438",
         "0.00018568162",
         "0.000167520561",
         "0.00015410889",
         "0.000150348513",
         "0.0001209228799999",
         "0.0001221944"
        ]
       ],
       "shape": {
        "columns": 32,
        "rows": 5
       }
      },
      "text/html": [
       "<div>\n",
       "<style scoped>\n",
       "    .dataframe tbody tr th:only-of-type {\n",
       "        vertical-align: middle;\n",
       "    }\n",
       "\n",
       "    .dataframe tbody tr th {\n",
       "        vertical-align: top;\n",
       "    }\n",
       "\n",
       "    .dataframe thead th {\n",
       "        text-align: right;\n",
       "    }\n",
       "</style>\n",
       "<table border=\"1\" class=\"dataframe\">\n",
       "  <thead>\n",
       "    <tr style=\"text-align: right;\">\n",
       "      <th></th>\n",
       "      <th>PuzzleId</th>\n",
       "      <th>FEN</th>\n",
       "      <th>Moves</th>\n",
       "      <th>Rating</th>\n",
       "      <th>RatingDeviation</th>\n",
       "      <th>Popularity</th>\n",
       "      <th>NbPlays</th>\n",
       "      <th>Themes</th>\n",
       "      <th>GameUrl</th>\n",
       "      <th>OpeningTags</th>\n",
       "      <th>...</th>\n",
       "      <th>success_prob_blitz_1150</th>\n",
       "      <th>success_prob_blitz_1250</th>\n",
       "      <th>success_prob_blitz_1350</th>\n",
       "      <th>success_prob_blitz_1450</th>\n",
       "      <th>success_prob_blitz_1550</th>\n",
       "      <th>success_prob_blitz_1650</th>\n",
       "      <th>success_prob_blitz_1750</th>\n",
       "      <th>success_prob_blitz_1850</th>\n",
       "      <th>success_prob_blitz_1950</th>\n",
       "      <th>success_prob_blitz_2050</th>\n",
       "    </tr>\n",
       "  </thead>\n",
       "  <tbody>\n",
       "    <tr>\n",
       "      <th>0</th>\n",
       "      <td>00008</td>\n",
       "      <td>r6k/pp2r2p/4Rp1Q/3p4/8/1N1P2R1/PqP2bPP/7K b - ...</td>\n",
       "      <td>f2g3 e6e7 b2b1 b3c1 b1c1 h6c1</td>\n",
       "      <td>1902</td>\n",
       "      <td>76</td>\n",
       "      <td>95</td>\n",
       "      <td>7226</td>\n",
       "      <td>crushing hangingPiece long middlegame</td>\n",
       "      <td>https://lichess.org/787zsVup/black#48</td>\n",
       "      <td>NaN</td>\n",
       "      <td>...</td>\n",
       "      <td>0.218818</td>\n",
       "      <td>0.209653</td>\n",
       "      <td>0.186691</td>\n",
       "      <td>0.164491</td>\n",
       "      <td>0.152678</td>\n",
       "      <td>0.140435</td>\n",
       "      <td>0.136796</td>\n",
       "      <td>0.129520</td>\n",
       "      <td>0.119234</td>\n",
       "      <td>0.117752</td>\n",
       "    </tr>\n",
       "    <tr>\n",
       "      <th>1</th>\n",
       "      <td>0000D</td>\n",
       "      <td>5rk1/1p3ppp/pq3b2/8/8/1P1Q1N2/P4PPP/3R2K1 w - ...</td>\n",
       "      <td>d3d6 f8d8 d6d8 f6d8</td>\n",
       "      <td>1512</td>\n",
       "      <td>74</td>\n",
       "      <td>96</td>\n",
       "      <td>29629</td>\n",
       "      <td>advantage endgame short</td>\n",
       "      <td>https://lichess.org/F8M8OS71#53</td>\n",
       "      <td>NaN</td>\n",
       "      <td>...</td>\n",
       "      <td>0.034210</td>\n",
       "      <td>0.028367</td>\n",
       "      <td>0.022817</td>\n",
       "      <td>0.018677</td>\n",
       "      <td>0.015565</td>\n",
       "      <td>0.012677</td>\n",
       "      <td>0.009887</td>\n",
       "      <td>0.008078</td>\n",
       "      <td>0.006526</td>\n",
       "      <td>0.004738</td>\n",
       "    </tr>\n",
       "    <tr>\n",
       "      <th>2</th>\n",
       "      <td>0008Q</td>\n",
       "      <td>8/4R3/1p2P3/p4r2/P6p/1P3Pk1/4K3/8 w - - 1 64</td>\n",
       "      <td>e7f7 f5e5 e2f1 e5e6</td>\n",
       "      <td>1300</td>\n",
       "      <td>75</td>\n",
       "      <td>90</td>\n",
       "      <td>666</td>\n",
       "      <td>advantage endgame rookEndgame short</td>\n",
       "      <td>https://lichess.org/MQSyb3KW#127</td>\n",
       "      <td>NaN</td>\n",
       "      <td>...</td>\n",
       "      <td>0.692399</td>\n",
       "      <td>0.689112</td>\n",
       "      <td>0.706355</td>\n",
       "      <td>0.714826</td>\n",
       "      <td>0.720929</td>\n",
       "      <td>0.719589</td>\n",
       "      <td>0.721771</td>\n",
       "      <td>0.710567</td>\n",
       "      <td>0.719568</td>\n",
       "      <td>0.685810</td>\n",
       "    </tr>\n",
       "    <tr>\n",
       "      <th>3</th>\n",
       "      <td>0009B</td>\n",
       "      <td>r2qr1k1/b1p2ppp/pp4n1/P1P1p3/4P1n1/B2P2Pb/3NBP...</td>\n",
       "      <td>b6c5 e2g4 h3g4 d1g4</td>\n",
       "      <td>1078</td>\n",
       "      <td>74</td>\n",
       "      <td>87</td>\n",
       "      <td>573</td>\n",
       "      <td>advantage middlegame short</td>\n",
       "      <td>https://lichess.org/4MWQCxQ6/black#32</td>\n",
       "      <td>Kings_Pawn_Game Kings_Pawn_Game_Leonardis_Vari...</td>\n",
       "      <td>...</td>\n",
       "      <td>0.673641</td>\n",
       "      <td>0.676497</td>\n",
       "      <td>0.679858</td>\n",
       "      <td>0.681578</td>\n",
       "      <td>0.672302</td>\n",
       "      <td>0.679798</td>\n",
       "      <td>0.660224</td>\n",
       "      <td>0.642372</td>\n",
       "      <td>0.629270</td>\n",
       "      <td>0.636599</td>\n",
       "    </tr>\n",
       "    <tr>\n",
       "      <th>4</th>\n",
       "      <td>000VW</td>\n",
       "      <td>r4r2/1p3pkp/p5p1/3R1N1Q/3P4/8/P1q2P2/3R2K1 b -...</td>\n",
       "      <td>g6f5 d5c5 c2e4 h5g5 g7h8 g5f6</td>\n",
       "      <td>2877</td>\n",
       "      <td>100</td>\n",
       "      <td>91</td>\n",
       "      <td>154</td>\n",
       "      <td>crushing endgame long</td>\n",
       "      <td>https://lichess.org/e9AY2m5j/black#50</td>\n",
       "      <td>NaN</td>\n",
       "      <td>...</td>\n",
       "      <td>0.000228</td>\n",
       "      <td>0.000214</td>\n",
       "      <td>0.000193</td>\n",
       "      <td>0.000182</td>\n",
       "      <td>0.000186</td>\n",
       "      <td>0.000168</td>\n",
       "      <td>0.000154</td>\n",
       "      <td>0.000150</td>\n",
       "      <td>0.000121</td>\n",
       "      <td>0.000122</td>\n",
       "    </tr>\n",
       "  </tbody>\n",
       "</table>\n",
       "<p>5 rows × 32 columns</p>\n",
       "</div>"
      ],
      "text/plain": [
       "  PuzzleId                                                FEN  \\\n",
       "0    00008  r6k/pp2r2p/4Rp1Q/3p4/8/1N1P2R1/PqP2bPP/7K b - ...   \n",
       "1    0000D  5rk1/1p3ppp/pq3b2/8/8/1P1Q1N2/P4PPP/3R2K1 w - ...   \n",
       "2    0008Q       8/4R3/1p2P3/p4r2/P6p/1P3Pk1/4K3/8 w - - 1 64   \n",
       "3    0009B  r2qr1k1/b1p2ppp/pp4n1/P1P1p3/4P1n1/B2P2Pb/3NBP...   \n",
       "4    000VW  r4r2/1p3pkp/p5p1/3R1N1Q/3P4/8/P1q2P2/3R2K1 b -...   \n",
       "\n",
       "                           Moves  Rating  RatingDeviation  Popularity  \\\n",
       "0  f2g3 e6e7 b2b1 b3c1 b1c1 h6c1    1902               76          95   \n",
       "1            d3d6 f8d8 d6d8 f6d8    1512               74          96   \n",
       "2            e7f7 f5e5 e2f1 e5e6    1300               75          90   \n",
       "3            b6c5 e2g4 h3g4 d1g4    1078               74          87   \n",
       "4  g6f5 d5c5 c2e4 h5g5 g7h8 g5f6    2877              100          91   \n",
       "\n",
       "   NbPlays                                 Themes  \\\n",
       "0     7226  crushing hangingPiece long middlegame   \n",
       "1    29629                advantage endgame short   \n",
       "2      666    advantage endgame rookEndgame short   \n",
       "3      573             advantage middlegame short   \n",
       "4      154                  crushing endgame long   \n",
       "\n",
       "                                 GameUrl  \\\n",
       "0  https://lichess.org/787zsVup/black#48   \n",
       "1        https://lichess.org/F8M8OS71#53   \n",
       "2       https://lichess.org/MQSyb3KW#127   \n",
       "3  https://lichess.org/4MWQCxQ6/black#32   \n",
       "4  https://lichess.org/e9AY2m5j/black#50   \n",
       "\n",
       "                                         OpeningTags  ...  \\\n",
       "0                                                NaN  ...   \n",
       "1                                                NaN  ...   \n",
       "2                                                NaN  ...   \n",
       "3  Kings_Pawn_Game Kings_Pawn_Game_Leonardis_Vari...  ...   \n",
       "4                                                NaN  ...   \n",
       "\n",
       "   success_prob_blitz_1150  success_prob_blitz_1250  success_prob_blitz_1350  \\\n",
       "0                 0.218818                 0.209653                 0.186691   \n",
       "1                 0.034210                 0.028367                 0.022817   \n",
       "2                 0.692399                 0.689112                 0.706355   \n",
       "3                 0.673641                 0.676497                 0.679858   \n",
       "4                 0.000228                 0.000214                 0.000193   \n",
       "\n",
       "   success_prob_blitz_1450  success_prob_blitz_1550  success_prob_blitz_1650  \\\n",
       "0                 0.164491                 0.152678                 0.140435   \n",
       "1                 0.018677                 0.015565                 0.012677   \n",
       "2                 0.714826                 0.720929                 0.719589   \n",
       "3                 0.681578                 0.672302                 0.679798   \n",
       "4                 0.000182                 0.000186                 0.000168   \n",
       "\n",
       "   success_prob_blitz_1750  success_prob_blitz_1850  success_prob_blitz_1950  \\\n",
       "0                 0.136796                 0.129520                 0.119234   \n",
       "1                 0.009887                 0.008078                 0.006526   \n",
       "2                 0.721771                 0.710567                 0.719568   \n",
       "3                 0.660224                 0.642372                 0.629270   \n",
       "4                 0.000154                 0.000150                 0.000121   \n",
       "\n",
       "   success_prob_blitz_2050  \n",
       "0                 0.117752  \n",
       "1                 0.004738  \n",
       "2                 0.685810  \n",
       "3                 0.636599  \n",
       "4                 0.000122  \n",
       "\n",
       "[5 rows x 32 columns]"
      ]
     },
     "execution_count": 39,
     "metadata": {},
     "output_type": "execute_result"
    }
   ],
   "source": [
    "df = pd.read_csv('../data/training_data_02_01.csv')\n",
    "df.head()"
   ]
  },
  {
   "cell_type": "code",
   "execution_count": 49,
   "id": "b8879412",
   "metadata": {},
   "outputs": [],
   "source": [
    "fen_features = df['FEN'].apply(generate_fen_features)"
   ]
  },
  {
   "cell_type": "code",
   "execution_count": 58,
   "id": "72e9943a",
   "metadata": {},
   "outputs": [
    {
     "data": {
      "application/vnd.microsoft.datawrangler.viewer.v0+json": {
       "columns": [
        {
         "name": "index",
         "rawType": "int64",
         "type": "integer"
        },
        {
         "name": "0",
         "rawType": "int64",
         "type": "integer"
        },
        {
         "name": "1",
         "rawType": "int64",
         "type": "integer"
        },
        {
         "name": "2",
         "rawType": "int64",
         "type": "integer"
        },
        {
         "name": "3",
         "rawType": "int64",
         "type": "integer"
        }
       ],
       "ref": "6b5d7a72-b201-4a02-b5a4-fad612863ed3",
       "rows": [
        [
         "0",
         "1",
         "1",
         "0",
         "2"
        ],
        [
         "1",
         "1",
         "1",
         "0",
         "2"
        ]
       ],
       "shape": {
        "columns": 4,
        "rows": 2
       }
      },
      "text/html": [
       "<div>\n",
       "<style scoped>\n",
       "    .dataframe tbody tr th:only-of-type {\n",
       "        vertical-align: middle;\n",
       "    }\n",
       "\n",
       "    .dataframe tbody tr th {\n",
       "        vertical-align: top;\n",
       "    }\n",
       "\n",
       "    .dataframe thead th {\n",
       "        text-align: right;\n",
       "    }\n",
       "</style>\n",
       "<table border=\"1\" class=\"dataframe\">\n",
       "  <thead>\n",
       "    <tr style=\"text-align: right;\">\n",
       "      <th></th>\n",
       "      <th>0</th>\n",
       "      <th>1</th>\n",
       "      <th>2</th>\n",
       "      <th>3</th>\n",
       "    </tr>\n",
       "  </thead>\n",
       "  <tbody>\n",
       "    <tr>\n",
       "      <th>0</th>\n",
       "      <td>1</td>\n",
       "      <td>1</td>\n",
       "      <td>0</td>\n",
       "      <td>2</td>\n",
       "    </tr>\n",
       "    <tr>\n",
       "      <th>1</th>\n",
       "      <td>1</td>\n",
       "      <td>1</td>\n",
       "      <td>0</td>\n",
       "      <td>2</td>\n",
       "    </tr>\n",
       "  </tbody>\n",
       "</table>\n",
       "</div>"
      ],
      "text/plain": [
       "   0  1  2  3\n",
       "0  1  1  0  2\n",
       "1  1  1  0  2"
      ]
     },
     "execution_count": 58,
     "metadata": {},
     "output_type": "execute_result"
    }
   ],
   "source": [
    "fen_features.head(2)"
   ]
  },
  {
   "cell_type": "code",
   "execution_count": 56,
   "id": "dbd09949",
   "metadata": {},
   "outputs": [
    {
     "name": "stdout",
     "output_type": "stream",
     "text": [
      "RangeIndex(start=0, stop=4, step=1)\n"
     ]
    }
   ],
   "source": [
    "print(fen_features.columns)"
   ]
  },
  {
   "cell_type": "code",
   "execution_count": null,
   "id": "b5e0b443",
   "metadata": {},
   "outputs": [
    {
     "name": "stdout",
     "output_type": "stream",
     "text": [
      "0    1\n",
      "1    1\n",
      "2    0\n",
      "3    2\n",
      "dtype: int64\n"
     ]
    }
   ],
   "source": [
    "# test check\n",
    "s = \"5rk1/1p3ppp/pq3b2/8/8/1P1Q1N2/P4PPP/3R2K1 w - - 2 27\"\n",
    "test = generate_fen_features(s)\n",
    "print((test))"
   ]
  },
  {
   "cell_type": "code",
   "execution_count": null,
   "id": "4a2c65da",
   "metadata": {},
   "outputs": [],
   "source": []
  }
 ],
 "metadata": {
  "kernelspec": {
   "display_name": "base",
   "language": "python",
   "name": "python3"
  },
  "language_info": {
   "codemirror_mode": {
    "name": "ipython",
    "version": 3
   },
   "file_extension": ".py",
   "mimetype": "text/x-python",
   "name": "python",
   "nbconvert_exporter": "python",
   "pygments_lexer": "ipython3",
   "version": "3.11.7"
  }
 },
 "nbformat": 4,
 "nbformat_minor": 5
}
