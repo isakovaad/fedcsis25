{
 "cells": [
  {
   "cell_type": "code",
   "execution_count": 20,
   "id": "08560d3c-aabf-4138-90b2-c424d5ec09c0",
   "metadata": {},
   "outputs": [],
   "source": [
    "from fedcsis25 import generate_fen_features\n",
    "from fedcsis25 import hello"
   ]
  }
 ],
 "metadata": {
  "kernelspec": {
   "display_name": "base",
   "language": "python",
   "name": "python3"
  },
  "language_info": {
   "codemirror_mode": {
    "name": "ipython",
    "version": 3
   },
   "file_extension": ".py",
   "mimetype": "text/x-python",
   "name": "python",
   "nbconvert_exporter": "python",
   "pygments_lexer": "ipython3",
   "version": "3.11.7"
  }
 },
 "nbformat": 4,
 "nbformat_minor": 5
}
