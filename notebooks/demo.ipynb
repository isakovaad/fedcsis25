{
 "cells": [
  {
   "cell_type": "code",
   "execution_count": null,
   "id": "fc593070",
   "metadata": {},
   "outputs": [],
   "source": [
    "\"training set: 4557000 rows x 32 columns\""
   ]
  },
  {
   "cell_type": "code",
   "execution_count": 1,
   "id": "08560d3c-aabf-4138-90b2-c424d5ec09c0",
   "metadata": {},
   "outputs": [
    {
     "data": {
      "text/plain": [
       "<module 'fedcsis25.fen_parser' from '/Users/bekzodamonov/Documents/GitHub/fedcsis25/fedcsis25/fen_parser.py'>"
      ]
     },
     "execution_count": 1,
     "metadata": {},
     "output_type": "execute_result"
    }
   ],
   "source": [
    "# update module\n",
    "import importlib\n",
    "import fedcsis25.feature_engineering\n",
    "import fedcsis25.fen_parser\n",
    "importlib.reload(fedcsis25.feature_engineering)\n",
    "importlib.reload(fedcsis25.fen_parser)"
   ]
  },
  {
   "cell_type": "code",
   "execution_count": 3,
   "id": "51e9f759",
   "metadata": {},
   "outputs": [],
   "source": [
    "import pandas as pd\n",
    "import numpy as np\n",
    "from fedcsis25.feature_engineering import generate_fen_features\n",
    "from fedcsis25.fen_parser import FenParser, FenParserTest"
   ]
  },
  {
   "cell_type": "code",
   "execution_count": 5,
   "id": "e371b351",
   "metadata": {},
   "outputs": [
    {
     "data": {
      "application/vnd.microsoft.datawrangler.viewer.v0+json": {
       "columns": [
        {
         "name": "index",
         "rawType": "int64",
         "type": "integer"
        },
        {
         "name": "PuzzleId",
         "rawType": "object",
         "type": "string"
        },
        {
         "name": "FEN",
         "rawType": "object",
         "type": "string"
        },
        {
         "name": "Moves",
         "rawType": "object",
         "type": "string"
        },
        {
         "name": "Rating",
         "rawType": "int64",
         "type": "integer"
        },
        {
         "name": "RatingDeviation",
         "rawType": "int64",
         "type": "integer"
        },
        {
         "name": "Popularity",
         "rawType": "int64",
         "type": "integer"
        },
        {
         "name": "NbPlays",
         "rawType": "int64",
         "type": "integer"
        },
        {
         "name": "Themes",
         "rawType": "object",
         "type": "string"
        },
        {
         "name": "GameUrl",
         "rawType": "object",
         "type": "string"
        },
        {
         "name": "OpeningTags",
         "rawType": "object",
         "type": "unknown"
        },
        {
         "name": "success_prob_rapid_1050",
         "rawType": "float64",
         "type": "float"
        },
        {
         "name": "success_prob_rapid_1150",
         "rawType": "float64",
         "type": "float"
        },
        {
         "name": "success_prob_rapid_1250",
         "rawType": "float64",
         "type": "float"
        },
        {
         "name": "success_prob_rapid_1350",
         "rawType": "float64",
         "type": "float"
        },
        {
         "name": "success_prob_rapid_1450",
         "rawType": "float64",
         "type": "float"
        },
        {
         "name": "success_prob_rapid_1550",
         "rawType": "float64",
         "type": "float"
        },
        {
         "name": "success_prob_rapid_1650",
         "rawType": "float64",
         "type": "float"
        },
        {
         "name": "success_prob_rapid_1750",
         "rawType": "float64",
         "type": "float"
        },
        {
         "name": "success_prob_rapid_1850",
         "rawType": "float64",
         "type": "float"
        },
        {
         "name": "success_prob_rapid_1950",
         "rawType": "float64",
         "type": "float"
        },
        {
         "name": "success_prob_rapid_2050",
         "rawType": "float64",
         "type": "float"
        },
        {
         "name": "success_prob_blitz_1050",
         "rawType": "float64",
         "type": "float"
        },
        {
         "name": "success_prob_blitz_1150",
         "rawType": "float64",
         "type": "float"
        },
        {
         "name": "success_prob_blitz_1250",
         "rawType": "float64",
         "type": "float"
        },
        {
         "name": "success_prob_blitz_1350",
         "rawType": "float64",
         "type": "float"
        },
        {
         "name": "success_prob_blitz_1450",
         "rawType": "float64",
         "type": "float"
        },
        {
         "name": "success_prob_blitz_1550",
         "rawType": "float64",
         "type": "float"
        },
        {
         "name": "success_prob_blitz_1650",
         "rawType": "float64",
         "type": "float"
        },
        {
         "name": "success_prob_blitz_1750",
         "rawType": "float64",
         "type": "float"
        },
        {
         "name": "success_prob_blitz_1850",
         "rawType": "float64",
         "type": "float"
        },
        {
         "name": "success_prob_blitz_1950",
         "rawType": "float64",
         "type": "float"
        },
        {
         "name": "success_prob_blitz_2050",
         "rawType": "float64",
         "type": "float"
        }
       ],
       "ref": "a6441704-be83-4e49-a745-35b9c598dc5b",
       "rows": [
        [
         "0",
         "00008",
         "r6k/pp2r2p/4Rp1Q/3p4/8/1N1P2R1/PqP2bPP/7K b - - 0 24",
         "f2g3 e6e7 b2b1 b3c1 b1c1 h6c1",
         "1902",
         "76",
         "95",
         "7226",
         "crushing hangingPiece long middlegame",
         "https://lichess.org/787zsVup/black#48",
         null,
         "0.16142186256",
         "0.1211242373039999",
         "0.12445170514",
         "0.1071458031239999",
         "0.100395522864",
         "0.085828076226",
         "0.0918585252199999",
         "0.0898640247",
         "0.093837612312",
         "0.0978300658919999",
         "0.0954601818239999",
         "0.2480058670639999",
         "0.2188178265",
         "0.20965329144",
         "0.186691030075",
         "0.1644905525599999",
         "0.1526780407039999",
         "0.1404353612559999",
         "0.136795666634",
         "0.12951951654",
         "0.119234486016",
         "0.1177518074879999"
        ],
        [
         "1",
         "0000D",
         "5rk1/1p3ppp/pq3b2/8/8/1P1Q1N2/P4PPP/3R2K1 w - - 2 27",
         "d3d6 f8d8 d6d8 f6d8",
         "1512",
         "74",
         "96",
         "29629",
         "advantage endgame short",
         "https://lichess.org/F8M8OS71#53",
         null,
         "0.04403509",
         "0.03549998",
         "0.030101",
         "0.02382612",
         "0.02111472",
         "0.01767248",
         "0.0151003",
         "0.01246312",
         "0.01107081",
         "0.0090041",
         "0.00682428",
         "0.04894274",
         "0.0342103999999999",
         "0.02836724",
         "0.0228168999999999",
         "0.01867733",
         "0.0155652199999999",
         "0.0126765",
         "0.00988668",
         "0.0080778899999999",
         "0.0065257499999999",
         "0.00473844"
        ],
        [
         "2",
         "0008Q",
         "8/4R3/1p2P3/p4r2/P6p/1P3Pk1/4K3/8 w - - 1 64",
         "e7f7 f5e5 e2f1 e5e6",
         "1300",
         "75",
         "90",
         "666",
         "advantage endgame rookEndgame short",
         "https://lichess.org/MQSyb3KW#127",
         null,
         "0.59519109",
         "0.70451374",
         "0.73190436",
         "0.7523734200000001",
         "0.7715939399999999",
         "0.7786175999999999",
         "0.7953057",
         "0.7904626",
         "0.78931355",
         "0.77902249",
         "0.75517116",
         "0.633612",
         "0.69239901",
         "0.68911213",
         "0.70635537",
         "0.71482554",
         "0.72092924",
         "0.71958936",
         "0.7217709600000001",
         "0.71056681",
         "0.7195682999999999",
         "0.68581032"
        ],
        [
         "3",
         "0009B",
         "r2qr1k1/b1p2ppp/pp4n1/P1P1p3/4P1n1/B2P2Pb/3NBP1P/RN1QR1K1 b - - 1 16",
         "b6c5 e2g4 h3g4 d1g4",
         "1078",
         "74",
         "87",
         "573",
         "advantage middlegame short",
         "https://lichess.org/4MWQCxQ6/black#32",
         "Kings_Pawn_Game Kings_Pawn_Game_Leonardis_Variation",
         "0.59432328",
         "0.7373526",
         "0.7695260799999999",
         "0.80075158",
         "0.8156905999999999",
         "0.83203208",
         "0.82673554",
         "0.81896259",
         "0.81010404",
         "0.8072946",
         "0.7786137599999999",
         "0.60556783",
         "0.673641",
         "0.67649664",
         "0.67985838",
         "0.68157826",
         "0.67230192",
         "0.67979844",
         "0.6602235900000001",
         "0.64237248",
         "0.62927004",
         "0.6365988300000001"
        ],
        [
         "4",
         "000VW",
         "r4r2/1p3pkp/p5p1/3R1N1Q/3P4/8/P1q2P2/3R2K1 b - - 3 25",
         "g6f5 d5c5 c2e4 h5g5 g7h8 g5f6",
         "2877",
         "100",
         "91",
         "154",
         "crushing endgame long",
         "https://lichess.org/e9AY2m5j/black#50",
         null,
         "0.0002672631",
         "0.0001431857",
         "0.0001308869639999",
         "0.00010840515",
         "9.7617536e-05",
         "9.2050959e-05",
         "8.575987200000002e-05",
         "8.667144e-05",
         "8.6605686e-05",
         "9.076236e-05",
         "9.56088e-05",
         "0.0002818955519999",
         "0.000228354672",
         "0.0002136192799999",
         "0.0001932014239999",
         "0.000181898438",
         "0.00018568162",
         "0.000167520561",
         "0.00015410889",
         "0.000150348513",
         "0.0001209228799999",
         "0.0001221944"
        ]
       ],
       "shape": {
        "columns": 32,
        "rows": 5
       }
      },
      "text/html": [
       "<div>\n",
       "<style scoped>\n",
       "    .dataframe tbody tr th:only-of-type {\n",
       "        vertical-align: middle;\n",
       "    }\n",
       "\n",
       "    .dataframe tbody tr th {\n",
       "        vertical-align: top;\n",
       "    }\n",
       "\n",
       "    .dataframe thead th {\n",
       "        text-align: right;\n",
       "    }\n",
       "</style>\n",
       "<table border=\"1\" class=\"dataframe\">\n",
       "  <thead>\n",
       "    <tr style=\"text-align: right;\">\n",
       "      <th></th>\n",
       "      <th>PuzzleId</th>\n",
       "      <th>FEN</th>\n",
       "      <th>Moves</th>\n",
       "      <th>Rating</th>\n",
       "      <th>RatingDeviation</th>\n",
       "      <th>Popularity</th>\n",
       "      <th>NbPlays</th>\n",
       "      <th>Themes</th>\n",
       "      <th>GameUrl</th>\n",
       "      <th>OpeningTags</th>\n",
       "      <th>...</th>\n",
       "      <th>success_prob_blitz_1150</th>\n",
       "      <th>success_prob_blitz_1250</th>\n",
       "      <th>success_prob_blitz_1350</th>\n",
       "      <th>success_prob_blitz_1450</th>\n",
       "      <th>success_prob_blitz_1550</th>\n",
       "      <th>success_prob_blitz_1650</th>\n",
       "      <th>success_prob_blitz_1750</th>\n",
       "      <th>success_prob_blitz_1850</th>\n",
       "      <th>success_prob_blitz_1950</th>\n",
       "      <th>success_prob_blitz_2050</th>\n",
       "    </tr>\n",
       "  </thead>\n",
       "  <tbody>\n",
       "    <tr>\n",
       "      <th>0</th>\n",
       "      <td>00008</td>\n",
       "      <td>r6k/pp2r2p/4Rp1Q/3p4/8/1N1P2R1/PqP2bPP/7K b - ...</td>\n",
       "      <td>f2g3 e6e7 b2b1 b3c1 b1c1 h6c1</td>\n",
       "      <td>1902</td>\n",
       "      <td>76</td>\n",
       "      <td>95</td>\n",
       "      <td>7226</td>\n",
       "      <td>crushing hangingPiece long middlegame</td>\n",
       "      <td>https://lichess.org/787zsVup/black#48</td>\n",
       "      <td>NaN</td>\n",
       "      <td>...</td>\n",
       "      <td>0.218818</td>\n",
       "      <td>0.209653</td>\n",
       "      <td>0.186691</td>\n",
       "      <td>0.164491</td>\n",
       "      <td>0.152678</td>\n",
       "      <td>0.140435</td>\n",
       "      <td>0.136796</td>\n",
       "      <td>0.129520</td>\n",
       "      <td>0.119234</td>\n",
       "      <td>0.117752</td>\n",
       "    </tr>\n",
       "    <tr>\n",
       "      <th>1</th>\n",
       "      <td>0000D</td>\n",
       "      <td>5rk1/1p3ppp/pq3b2/8/8/1P1Q1N2/P4PPP/3R2K1 w - ...</td>\n",
       "      <td>d3d6 f8d8 d6d8 f6d8</td>\n",
       "      <td>1512</td>\n",
       "      <td>74</td>\n",
       "      <td>96</td>\n",
       "      <td>29629</td>\n",
       "      <td>advantage endgame short</td>\n",
       "      <td>https://lichess.org/F8M8OS71#53</td>\n",
       "      <td>NaN</td>\n",
       "      <td>...</td>\n",
       "      <td>0.034210</td>\n",
       "      <td>0.028367</td>\n",
       "      <td>0.022817</td>\n",
       "      <td>0.018677</td>\n",
       "      <td>0.015565</td>\n",
       "      <td>0.012677</td>\n",
       "      <td>0.009887</td>\n",
       "      <td>0.008078</td>\n",
       "      <td>0.006526</td>\n",
       "      <td>0.004738</td>\n",
       "    </tr>\n",
       "    <tr>\n",
       "      <th>2</th>\n",
       "      <td>0008Q</td>\n",
       "      <td>8/4R3/1p2P3/p4r2/P6p/1P3Pk1/4K3/8 w - - 1 64</td>\n",
       "      <td>e7f7 f5e5 e2f1 e5e6</td>\n",
       "      <td>1300</td>\n",
       "      <td>75</td>\n",
       "      <td>90</td>\n",
       "      <td>666</td>\n",
       "      <td>advantage endgame rookEndgame short</td>\n",
       "      <td>https://lichess.org/MQSyb3KW#127</td>\n",
       "      <td>NaN</td>\n",
       "      <td>...</td>\n",
       "      <td>0.692399</td>\n",
       "      <td>0.689112</td>\n",
       "      <td>0.706355</td>\n",
       "      <td>0.714826</td>\n",
       "      <td>0.720929</td>\n",
       "      <td>0.719589</td>\n",
       "      <td>0.721771</td>\n",
       "      <td>0.710567</td>\n",
       "      <td>0.719568</td>\n",
       "      <td>0.685810</td>\n",
       "    </tr>\n",
       "    <tr>\n",
       "      <th>3</th>\n",
       "      <td>0009B</td>\n",
       "      <td>r2qr1k1/b1p2ppp/pp4n1/P1P1p3/4P1n1/B2P2Pb/3NBP...</td>\n",
       "      <td>b6c5 e2g4 h3g4 d1g4</td>\n",
       "      <td>1078</td>\n",
       "      <td>74</td>\n",
       "      <td>87</td>\n",
       "      <td>573</td>\n",
       "      <td>advantage middlegame short</td>\n",
       "      <td>https://lichess.org/4MWQCxQ6/black#32</td>\n",
       "      <td>Kings_Pawn_Game Kings_Pawn_Game_Leonardis_Vari...</td>\n",
       "      <td>...</td>\n",
       "      <td>0.673641</td>\n",
       "      <td>0.676497</td>\n",
       "      <td>0.679858</td>\n",
       "      <td>0.681578</td>\n",
       "      <td>0.672302</td>\n",
       "      <td>0.679798</td>\n",
       "      <td>0.660224</td>\n",
       "      <td>0.642372</td>\n",
       "      <td>0.629270</td>\n",
       "      <td>0.636599</td>\n",
       "    </tr>\n",
       "    <tr>\n",
       "      <th>4</th>\n",
       "      <td>000VW</td>\n",
       "      <td>r4r2/1p3pkp/p5p1/3R1N1Q/3P4/8/P1q2P2/3R2K1 b -...</td>\n",
       "      <td>g6f5 d5c5 c2e4 h5g5 g7h8 g5f6</td>\n",
       "      <td>2877</td>\n",
       "      <td>100</td>\n",
       "      <td>91</td>\n",
       "      <td>154</td>\n",
       "      <td>crushing endgame long</td>\n",
       "      <td>https://lichess.org/e9AY2m5j/black#50</td>\n",
       "      <td>NaN</td>\n",
       "      <td>...</td>\n",
       "      <td>0.000228</td>\n",
       "      <td>0.000214</td>\n",
       "      <td>0.000193</td>\n",
       "      <td>0.000182</td>\n",
       "      <td>0.000186</td>\n",
       "      <td>0.000168</td>\n",
       "      <td>0.000154</td>\n",
       "      <td>0.000150</td>\n",
       "      <td>0.000121</td>\n",
       "      <td>0.000122</td>\n",
       "    </tr>\n",
       "  </tbody>\n",
       "</table>\n",
       "<p>5 rows × 32 columns</p>\n",
       "</div>"
      ],
      "text/plain": [
       "  PuzzleId                                                FEN  \\\n",
       "0    00008  r6k/pp2r2p/4Rp1Q/3p4/8/1N1P2R1/PqP2bPP/7K b - ...   \n",
       "1    0000D  5rk1/1p3ppp/pq3b2/8/8/1P1Q1N2/P4PPP/3R2K1 w - ...   \n",
       "2    0008Q       8/4R3/1p2P3/p4r2/P6p/1P3Pk1/4K3/8 w - - 1 64   \n",
       "3    0009B  r2qr1k1/b1p2ppp/pp4n1/P1P1p3/4P1n1/B2P2Pb/3NBP...   \n",
       "4    000VW  r4r2/1p3pkp/p5p1/3R1N1Q/3P4/8/P1q2P2/3R2K1 b -...   \n",
       "\n",
       "                           Moves  Rating  RatingDeviation  Popularity  \\\n",
       "0  f2g3 e6e7 b2b1 b3c1 b1c1 h6c1    1902               76          95   \n",
       "1            d3d6 f8d8 d6d8 f6d8    1512               74          96   \n",
       "2            e7f7 f5e5 e2f1 e5e6    1300               75          90   \n",
       "3            b6c5 e2g4 h3g4 d1g4    1078               74          87   \n",
       "4  g6f5 d5c5 c2e4 h5g5 g7h8 g5f6    2877              100          91   \n",
       "\n",
       "   NbPlays                                 Themes  \\\n",
       "0     7226  crushing hangingPiece long middlegame   \n",
       "1    29629                advantage endgame short   \n",
       "2      666    advantage endgame rookEndgame short   \n",
       "3      573             advantage middlegame short   \n",
       "4      154                  crushing endgame long   \n",
       "\n",
       "                                 GameUrl  \\\n",
       "0  https://lichess.org/787zsVup/black#48   \n",
       "1        https://lichess.org/F8M8OS71#53   \n",
       "2       https://lichess.org/MQSyb3KW#127   \n",
       "3  https://lichess.org/4MWQCxQ6/black#32   \n",
       "4  https://lichess.org/e9AY2m5j/black#50   \n",
       "\n",
       "                                         OpeningTags  ...  \\\n",
       "0                                                NaN  ...   \n",
       "1                                                NaN  ...   \n",
       "2                                                NaN  ...   \n",
       "3  Kings_Pawn_Game Kings_Pawn_Game_Leonardis_Vari...  ...   \n",
       "4                                                NaN  ...   \n",
       "\n",
       "   success_prob_blitz_1150  success_prob_blitz_1250  success_prob_blitz_1350  \\\n",
       "0                 0.218818                 0.209653                 0.186691   \n",
       "1                 0.034210                 0.028367                 0.022817   \n",
       "2                 0.692399                 0.689112                 0.706355   \n",
       "3                 0.673641                 0.676497                 0.679858   \n",
       "4                 0.000228                 0.000214                 0.000193   \n",
       "\n",
       "   success_prob_blitz_1450  success_prob_blitz_1550  success_prob_blitz_1650  \\\n",
       "0                 0.164491                 0.152678                 0.140435   \n",
       "1                 0.018677                 0.015565                 0.012677   \n",
       "2                 0.714826                 0.720929                 0.719589   \n",
       "3                 0.681578                 0.672302                 0.679798   \n",
       "4                 0.000182                 0.000186                 0.000168   \n",
       "\n",
       "   success_prob_blitz_1750  success_prob_blitz_1850  success_prob_blitz_1950  \\\n",
       "0                 0.136796                 0.129520                 0.119234   \n",
       "1                 0.009887                 0.008078                 0.006526   \n",
       "2                 0.721771                 0.710567                 0.719568   \n",
       "3                 0.660224                 0.642372                 0.629270   \n",
       "4                 0.000154                 0.000150                 0.000121   \n",
       "\n",
       "   success_prob_blitz_2050  \n",
       "0                 0.117752  \n",
       "1                 0.004738  \n",
       "2                 0.685810  \n",
       "3                 0.636599  \n",
       "4                 0.000122  \n",
       "\n",
       "[5 rows x 32 columns]"
      ]
     },
     "execution_count": 5,
     "metadata": {},
     "output_type": "execute_result"
    }
   ],
   "source": [
    "df = pd.read_csv('../data/training_data_02_01.csv')\n",
    "df.head()"
   ]
  },
  {
   "cell_type": "code",
   "execution_count": 82,
   "id": "b5e0b443",
   "metadata": {},
   "outputs": [
    {
     "name": "stdout",
     "output_type": "stream",
     "text": [
      "Q_w_count            1\n",
      "Q_b_count            1\n",
      "Q_diff               0\n",
      "Q_total              2\n",
      "R_w_count            1\n",
      "R_b_count            1\n",
      "R_diff               0\n",
      "R_total              2\n",
      "B_w_count            0\n",
      "B_b_count            1\n",
      "B_diff              -1\n",
      "B_total              1\n",
      "N_w_count            1\n",
      "N_b_count            0\n",
      "N_diff               1\n",
      "N_total              1\n",
      "P_w_count            5\n",
      "P_b_count            5\n",
      "P_diff               0\n",
      "P_total             10\n",
      "total_pieces_w       8\n",
      "total_pieces_b       8\n",
      "diff_pieces          0\n",
      "total_pieces        16\n",
      "total_val_w         24\n",
      "total_val_b         24\n",
      "diff_values          0\n",
      "total_values        48\n",
      "active               1\n",
      "en_passant           0\n",
      "castling_wk          0\n",
      "castling_wq          0\n",
      "total_castling_w     0\n",
      "castling_bk          0\n",
      "castling_bq          0\n",
      "total_castling_b     0\n",
      "diff_castling        0\n",
      "total_castling       0\n",
      "halfmove_clock       2\n",
      "fullmove_number     27\n",
      "dtype: int64\n",
      "['5rk1/1p3ppp/pq3b2/8/8/1P1Q1N2/P4PPP/3R2K1', 'w', '-', '-', '2', '27']\n"
     ]
    }
   ],
   "source": [
    "# test check\n",
    "s = \"5rk1/1p3ppp/pq3b2/8/8/1P1Q1N2/P4PPP/3R2K1 w - - 2 27\"\n",
    "test = generate_fen_features(s)\n",
    "print(test)\n",
    "print(s.split())\n",
    "#print((test))"
   ]
  },
  {
   "cell_type": "code",
   "execution_count": null,
   "id": "72e9943a",
   "metadata": {},
   "outputs": [
    {
     "data": {
      "application/vnd.microsoft.datawrangler.viewer.v0+json": {
       "columns": [
        {
         "name": "index",
         "rawType": "int64",
         "type": "integer"
        },
        {
         "name": "0",
         "rawType": "int64",
         "type": "integer"
        },
        {
         "name": "1",
         "rawType": "int64",
         "type": "integer"
        },
        {
         "name": "2",
         "rawType": "int64",
         "type": "integer"
        },
        {
         "name": "3",
         "rawType": "int64",
         "type": "integer"
        }
       ],
       "ref": "8f4a893c-090f-4c18-9307-461748d6868b",
       "rows": [
        [
         "0",
         "1",
         "1",
         "0",
         "2"
        ],
        [
         "1",
         "1",
         "1",
         "0",
         "2"
        ],
        [
         "2",
         "0",
         "0",
         "0",
         "0"
        ],
        [
         "3",
         "1",
         "1",
         "0",
         "2"
        ],
        [
         "4",
         "1",
         "1",
         "0",
         "2"
        ],
        [
         "5",
         "0",
         "0",
         "0",
         "0"
        ],
        [
         "6",
         "0",
         "0",
         "0",
         "0"
        ],
        [
         "7",
         "1",
         "1",
         "0",
         "2"
        ],
        [
         "8",
         "1",
         "1",
         "0",
         "2"
        ],
        [
         "9",
         "1",
         "1",
         "0",
         "2"
        ],
        [
         "10",
         "1",
         "1",
         "0",
         "2"
        ],
        [
         "11",
         "0",
         "0",
         "0",
         "0"
        ],
        [
         "12",
         "0",
         "0",
         "0",
         "0"
        ],
        [
         "13",
         "1",
         "1",
         "0",
         "2"
        ],
        [
         "14",
         "1",
         "1",
         "0",
         "2"
        ],
        [
         "15",
         "1",
         "1",
         "0",
         "2"
        ],
        [
         "16",
         "1",
         "1",
         "0",
         "2"
        ],
        [
         "17",
         "1",
         "1",
         "0",
         "2"
        ],
        [
         "18",
         "0",
         "0",
         "0",
         "0"
        ],
        [
         "19",
         "1",
         "1",
         "0",
         "2"
        ],
        [
         "20",
         "0",
         "0",
         "0",
         "0"
        ],
        [
         "21",
         "0",
         "0",
         "0",
         "0"
        ],
        [
         "22",
         "1",
         "0",
         "1",
         "1"
        ],
        [
         "23",
         "1",
         "1",
         "0",
         "2"
        ],
        [
         "24",
         "1",
         "0",
         "1",
         "1"
        ],
        [
         "25",
         "1",
         "0",
         "1",
         "1"
        ],
        [
         "26",
         "1",
         "1",
         "0",
         "2"
        ],
        [
         "27",
         "0",
         "0",
         "0",
         "0"
        ],
        [
         "28",
         "1",
         "1",
         "0",
         "2"
        ],
        [
         "29",
         "1",
         "1",
         "0",
         "2"
        ],
        [
         "30",
         "1",
         "1",
         "0",
         "2"
        ],
        [
         "31",
         "1",
         "1",
         "0",
         "2"
        ],
        [
         "32",
         "1",
         "1",
         "0",
         "2"
        ],
        [
         "33",
         "0",
         "1",
         "-1",
         "1"
        ],
        [
         "34",
         "1",
         "1",
         "0",
         "2"
        ],
        [
         "35",
         "1",
         "1",
         "0",
         "2"
        ],
        [
         "36",
         "1",
         "1",
         "0",
         "2"
        ],
        [
         "37",
         "1",
         "1",
         "0",
         "2"
        ],
        [
         "38",
         "0",
         "0",
         "0",
         "0"
        ],
        [
         "39",
         "1",
         "1",
         "0",
         "2"
        ],
        [
         "40",
         "1",
         "1",
         "0",
         "2"
        ],
        [
         "41",
         "1",
         "1",
         "0",
         "2"
        ],
        [
         "42",
         "1",
         "1",
         "0",
         "2"
        ],
        [
         "43",
         "1",
         "1",
         "0",
         "2"
        ],
        [
         "44",
         "1",
         "1",
         "0",
         "2"
        ],
        [
         "45",
         "1",
         "1",
         "0",
         "2"
        ],
        [
         "46",
         "0",
         "0",
         "0",
         "0"
        ],
        [
         "47",
         "0",
         "0",
         "0",
         "0"
        ],
        [
         "48",
         "1",
         "1",
         "0",
         "2"
        ],
        [
         "49",
         "0",
         "0",
         "0",
         "0"
        ]
       ],
       "shape": {
        "columns": 4,
        "rows": 4557000
       }
      },
      "text/html": [
       "<div>\n",
       "<style scoped>\n",
       "    .dataframe tbody tr th:only-of-type {\n",
       "        vertical-align: middle;\n",
       "    }\n",
       "\n",
       "    .dataframe tbody tr th {\n",
       "        vertical-align: top;\n",
       "    }\n",
       "\n",
       "    .dataframe thead th {\n",
       "        text-align: right;\n",
       "    }\n",
       "</style>\n",
       "<table border=\"1\" class=\"dataframe\">\n",
       "  <thead>\n",
       "    <tr style=\"text-align: right;\">\n",
       "      <th></th>\n",
       "      <th>0</th>\n",
       "      <th>1</th>\n",
       "      <th>2</th>\n",
       "      <th>3</th>\n",
       "    </tr>\n",
       "  </thead>\n",
       "  <tbody>\n",
       "    <tr>\n",
       "      <th>0</th>\n",
       "      <td>1</td>\n",
       "      <td>1</td>\n",
       "      <td>0</td>\n",
       "      <td>2</td>\n",
       "    </tr>\n",
       "    <tr>\n",
       "      <th>1</th>\n",
       "      <td>1</td>\n",
       "      <td>1</td>\n",
       "      <td>0</td>\n",
       "      <td>2</td>\n",
       "    </tr>\n",
       "    <tr>\n",
       "      <th>2</th>\n",
       "      <td>0</td>\n",
       "      <td>0</td>\n",
       "      <td>0</td>\n",
       "      <td>0</td>\n",
       "    </tr>\n",
       "    <tr>\n",
       "      <th>3</th>\n",
       "      <td>1</td>\n",
       "      <td>1</td>\n",
       "      <td>0</td>\n",
       "      <td>2</td>\n",
       "    </tr>\n",
       "    <tr>\n",
       "      <th>4</th>\n",
       "      <td>1</td>\n",
       "      <td>1</td>\n",
       "      <td>0</td>\n",
       "      <td>2</td>\n",
       "    </tr>\n",
       "    <tr>\n",
       "      <th>...</th>\n",
       "      <td>...</td>\n",
       "      <td>...</td>\n",
       "      <td>...</td>\n",
       "      <td>...</td>\n",
       "    </tr>\n",
       "    <tr>\n",
       "      <th>4556995</th>\n",
       "      <td>0</td>\n",
       "      <td>0</td>\n",
       "      <td>0</td>\n",
       "      <td>0</td>\n",
       "    </tr>\n",
       "    <tr>\n",
       "      <th>4556996</th>\n",
       "      <td>1</td>\n",
       "      <td>1</td>\n",
       "      <td>0</td>\n",
       "      <td>2</td>\n",
       "    </tr>\n",
       "    <tr>\n",
       "      <th>4556997</th>\n",
       "      <td>1</td>\n",
       "      <td>1</td>\n",
       "      <td>0</td>\n",
       "      <td>2</td>\n",
       "    </tr>\n",
       "    <tr>\n",
       "      <th>4556998</th>\n",
       "      <td>0</td>\n",
       "      <td>1</td>\n",
       "      <td>-1</td>\n",
       "      <td>1</td>\n",
       "    </tr>\n",
       "    <tr>\n",
       "      <th>4556999</th>\n",
       "      <td>0</td>\n",
       "      <td>0</td>\n",
       "      <td>0</td>\n",
       "      <td>0</td>\n",
       "    </tr>\n",
       "  </tbody>\n",
       "</table>\n",
       "<p>4557000 rows × 4 columns</p>\n",
       "</div>"
      ],
      "text/plain": [
       "         0  1  2  3\n",
       "0        1  1  0  2\n",
       "1        1  1  0  2\n",
       "2        0  0  0  0\n",
       "3        1  1  0  2\n",
       "4        1  1  0  2\n",
       "...     .. .. .. ..\n",
       "4556995  0  0  0  0\n",
       "4556996  1  1  0  2\n",
       "4556997  1  1  0  2\n",
       "4556998  0  1 -1  1\n",
       "4556999  0  0  0  0\n",
       "\n",
       "[4557000 rows x 4 columns]"
      ]
     },
     "execution_count": 69,
     "metadata": {},
     "output_type": "execute_result"
    }
   ],
   "source": [
    "fen_features = df['FEN'].apply(generate_fen_features)\n",
    "fen_features"
   ]
  },
  {
   "cell_type": "code",
   "execution_count": 83,
   "id": "85f7774c",
   "metadata": {},
   "outputs": [
    {
     "data": {
      "application/vnd.microsoft.datawrangler.viewer.v0+json": {
       "columns": [
        {
         "name": "index",
         "rawType": "int64",
         "type": "integer"
        },
        {
         "name": "Q_w_count",
         "rawType": "int64",
         "type": "integer"
        },
        {
         "name": "Q_b_count",
         "rawType": "int64",
         "type": "integer"
        },
        {
         "name": "Q_diff",
         "rawType": "int64",
         "type": "integer"
        },
        {
         "name": "Q_total",
         "rawType": "int64",
         "type": "integer"
        },
        {
         "name": "R_w_count",
         "rawType": "int64",
         "type": "integer"
        },
        {
         "name": "R_b_count",
         "rawType": "int64",
         "type": "integer"
        },
        {
         "name": "R_diff",
         "rawType": "int64",
         "type": "integer"
        },
        {
         "name": "R_total",
         "rawType": "int64",
         "type": "integer"
        },
        {
         "name": "B_w_count",
         "rawType": "int64",
         "type": "integer"
        },
        {
         "name": "B_b_count",
         "rawType": "int64",
         "type": "integer"
        },
        {
         "name": "B_diff",
         "rawType": "int64",
         "type": "integer"
        },
        {
         "name": "B_total",
         "rawType": "int64",
         "type": "integer"
        },
        {
         "name": "N_w_count",
         "rawType": "int64",
         "type": "integer"
        },
        {
         "name": "N_b_count",
         "rawType": "int64",
         "type": "integer"
        },
        {
         "name": "N_diff",
         "rawType": "int64",
         "type": "integer"
        },
        {
         "name": "N_total",
         "rawType": "int64",
         "type": "integer"
        },
        {
         "name": "P_w_count",
         "rawType": "int64",
         "type": "integer"
        },
        {
         "name": "P_b_count",
         "rawType": "int64",
         "type": "integer"
        },
        {
         "name": "P_diff",
         "rawType": "int64",
         "type": "integer"
        },
        {
         "name": "P_total",
         "rawType": "int64",
         "type": "integer"
        },
        {
         "name": "total_pieces_w",
         "rawType": "int64",
         "type": "integer"
        },
        {
         "name": "total_pieces_b",
         "rawType": "int64",
         "type": "integer"
        },
        {
         "name": "diff_pieces",
         "rawType": "int64",
         "type": "integer"
        },
        {
         "name": "total_pieces",
         "rawType": "int64",
         "type": "integer"
        },
        {
         "name": "total_val_w",
         "rawType": "int64",
         "type": "integer"
        },
        {
         "name": "total_val_b",
         "rawType": "int64",
         "type": "integer"
        },
        {
         "name": "diff_values",
         "rawType": "int64",
         "type": "integer"
        },
        {
         "name": "total_values",
         "rawType": "int64",
         "type": "integer"
        },
        {
         "name": "active",
         "rawType": "int64",
         "type": "integer"
        },
        {
         "name": "en_passant",
         "rawType": "int64",
         "type": "integer"
        },
        {
         "name": "castling_wk",
         "rawType": "int64",
         "type": "integer"
        },
        {
         "name": "castling_wq",
         "rawType": "int64",
         "type": "integer"
        },
        {
         "name": "total_castling_w",
         "rawType": "int64",
         "type": "integer"
        },
        {
         "name": "castling_bk",
         "rawType": "int64",
         "type": "integer"
        },
        {
         "name": "castling_bq",
         "rawType": "int64",
         "type": "integer"
        },
        {
         "name": "total_castling_b",
         "rawType": "int64",
         "type": "integer"
        },
        {
         "name": "diff_castling",
         "rawType": "int64",
         "type": "integer"
        },
        {
         "name": "total_castling",
         "rawType": "int64",
         "type": "integer"
        },
        {
         "name": "halfmove_clock",
         "rawType": "int64",
         "type": "integer"
        },
        {
         "name": "fullmove_number",
         "rawType": "int64",
         "type": "integer"
        }
       ],
       "ref": "5b77a3e7-e24f-447f-bbeb-3b5094014af2",
       "rows": [
        [
         "0",
         "1",
         "1",
         "0",
         "2",
         "2",
         "2",
         "0",
         "4",
         "0",
         "1",
         "-1",
         "1",
         "1",
         "0",
         "1",
         "1",
         "5",
         "5",
         "0",
         "10",
         "9",
         "9",
         "0",
         "18",
         "31",
         "31",
         "0",
         "62",
         "0",
         "0",
         "0",
         "0",
         "0",
         "0",
         "0",
         "0",
         "0",
         "0",
         "0",
         "24"
        ],
        [
         "1",
         "1",
         "1",
         "0",
         "2",
         "1",
         "1",
         "0",
         "2",
         "0",
         "1",
         "-1",
         "1",
         "1",
         "0",
         "1",
         "1",
         "5",
         "5",
         "0",
         "10",
         "8",
         "8",
         "0",
         "16",
         "24",
         "24",
         "0",
         "48",
         "1",
         "0",
         "0",
         "0",
         "0",
         "0",
         "0",
         "0",
         "0",
         "0",
         "2",
         "27"
        ]
       ],
       "shape": {
        "columns": 40,
        "rows": 2
       }
      },
      "text/html": [
       "<div>\n",
       "<style scoped>\n",
       "    .dataframe tbody tr th:only-of-type {\n",
       "        vertical-align: middle;\n",
       "    }\n",
       "\n",
       "    .dataframe tbody tr th {\n",
       "        vertical-align: top;\n",
       "    }\n",
       "\n",
       "    .dataframe thead th {\n",
       "        text-align: right;\n",
       "    }\n",
       "</style>\n",
       "<table border=\"1\" class=\"dataframe\">\n",
       "  <thead>\n",
       "    <tr style=\"text-align: right;\">\n",
       "      <th></th>\n",
       "      <th>Q_w_count</th>\n",
       "      <th>Q_b_count</th>\n",
       "      <th>Q_diff</th>\n",
       "      <th>Q_total</th>\n",
       "      <th>R_w_count</th>\n",
       "      <th>R_b_count</th>\n",
       "      <th>R_diff</th>\n",
       "      <th>R_total</th>\n",
       "      <th>B_w_count</th>\n",
       "      <th>B_b_count</th>\n",
       "      <th>...</th>\n",
       "      <th>castling_wk</th>\n",
       "      <th>castling_wq</th>\n",
       "      <th>total_castling_w</th>\n",
       "      <th>castling_bk</th>\n",
       "      <th>castling_bq</th>\n",
       "      <th>total_castling_b</th>\n",
       "      <th>diff_castling</th>\n",
       "      <th>total_castling</th>\n",
       "      <th>halfmove_clock</th>\n",
       "      <th>fullmove_number</th>\n",
       "    </tr>\n",
       "  </thead>\n",
       "  <tbody>\n",
       "    <tr>\n",
       "      <th>0</th>\n",
       "      <td>1</td>\n",
       "      <td>1</td>\n",
       "      <td>0</td>\n",
       "      <td>2</td>\n",
       "      <td>2</td>\n",
       "      <td>2</td>\n",
       "      <td>0</td>\n",
       "      <td>4</td>\n",
       "      <td>0</td>\n",
       "      <td>1</td>\n",
       "      <td>...</td>\n",
       "      <td>0</td>\n",
       "      <td>0</td>\n",
       "      <td>0</td>\n",
       "      <td>0</td>\n",
       "      <td>0</td>\n",
       "      <td>0</td>\n",
       "      <td>0</td>\n",
       "      <td>0</td>\n",
       "      <td>0</td>\n",
       "      <td>24</td>\n",
       "    </tr>\n",
       "    <tr>\n",
       "      <th>1</th>\n",
       "      <td>1</td>\n",
       "      <td>1</td>\n",
       "      <td>0</td>\n",
       "      <td>2</td>\n",
       "      <td>1</td>\n",
       "      <td>1</td>\n",
       "      <td>0</td>\n",
       "      <td>2</td>\n",
       "      <td>0</td>\n",
       "      <td>1</td>\n",
       "      <td>...</td>\n",
       "      <td>0</td>\n",
       "      <td>0</td>\n",
       "      <td>0</td>\n",
       "      <td>0</td>\n",
       "      <td>0</td>\n",
       "      <td>0</td>\n",
       "      <td>0</td>\n",
       "      <td>0</td>\n",
       "      <td>2</td>\n",
       "      <td>27</td>\n",
       "    </tr>\n",
       "  </tbody>\n",
       "</table>\n",
       "<p>2 rows × 40 columns</p>\n",
       "</div>"
      ],
      "text/plain": [
       "   Q_w_count  Q_b_count  Q_diff  Q_total  R_w_count  R_b_count  R_diff  \\\n",
       "0          1          1       0        2          2          2       0   \n",
       "1          1          1       0        2          1          1       0   \n",
       "\n",
       "   R_total  B_w_count  B_b_count  ...  castling_wk  castling_wq  \\\n",
       "0        4          0          1  ...            0            0   \n",
       "1        2          0          1  ...            0            0   \n",
       "\n",
       "   total_castling_w  castling_bk  castling_bq  total_castling_b  \\\n",
       "0                 0            0            0                 0   \n",
       "1                 0            0            0                 0   \n",
       "\n",
       "   diff_castling  total_castling  halfmove_clock  fullmove_number  \n",
       "0              0               0               0               24  \n",
       "1              0               0               2               27  \n",
       "\n",
       "[2 rows x 40 columns]"
      ]
     },
     "execution_count": 83,
     "metadata": {},
     "output_type": "execute_result"
    }
   ],
   "source": [
    "#fen_features_2 = df['FEN'].apply(generate_fen_features)\n",
    "fen_features_2.head(2)"
   ]
  },
  {
   "cell_type": "code",
   "execution_count": 6,
   "id": "ad6f7a46",
   "metadata": {},
   "outputs": [],
   "source": [
    "'''\n",
    "convert fen to dict_board\n",
    "'''\n",
    "def convert_fen_dict(fen):\n",
    "    board_fen = FenParser(fen).parse()\n",
    "\n",
    "    board_dict = {\n",
    "        'a': {'1': '', '2': '', '3': '', '4': '', '5': '', '6': '', '7': '', '8': ''},\n",
    "        'b': {'1': '', '2': '', '3': '', '4': '', '5': '', '6': '', '7': '', '8': ''},\n",
    "        'c': {'1': '', '2': '', '3': '', '4': '', '5': '', '6': '', '7': '', '8': ''},\n",
    "        'd': {'1': '', '2': '', '3': '', '4': '', '5': '', '6': '', '7': '', '8': ''},\n",
    "        'e': {'1': '', '2': '', '3': '', '4': '', '5': '', '6': '', '7': '', '8': ''},\n",
    "        'f': {'1': '', '2': '', '3': '', '4': '', '5': '', '6': '', '7': '', '8': ''},\n",
    "        'g': {'1': '', '2': '', '3': '', '4': '', '5': '', '6': '', '7': '', '8': ''},\n",
    "        'h': {'1': '', '2': '', '3': '', '4': '', '5': '', '6': '', '7': '', '8': ''}\n",
    "    }\n",
    "\n",
    "    for i, row, in zip(range(8), ['8', '7', '6', '5', '4', '3', '2', '1']):\n",
    "        for j, col in zip(range(8), ['a', 'b', 'c', 'd', 'e', 'f', 'g', 'h']):\n",
    "            if board_fen[i][j] != ' ':\n",
    "                board_dict[col][row] = board_fen[i][j]\n",
    "            else:\n",
    "                board_dict[col][row] = ''\n",
    "\n",
    "    return board_dict"
   ]
  },
  {
   "cell_type": "code",
   "execution_count": 7,
   "id": "509ade7a",
   "metadata": {},
   "outputs": [],
   "source": [
    "convert_fen_dict = df['FEN'].apply(convert_fen_dict)"
   ]
  },
  {
   "cell_type": "code",
   "execution_count": 16,
   "id": "405d3f9d",
   "metadata": {},
   "outputs": [
    {
     "name": "stdout",
     "output_type": "stream",
     "text": [
      "['/opt/anaconda3/envs/fedcsis25/lib/python311.zip', '/opt/anaconda3/envs/fedcsis25/lib/python3.11', '/opt/anaconda3/envs/fedcsis25/lib/python3.11/lib-dynload', '', '/Users/bekzodamonov/.local/lib/python3.11/site-packages', '/opt/anaconda3/envs/fedcsis25/lib/python3.11/site-packages']\n"
     ]
    }
   ],
   "source": [
    "import sys\n",
    "print(sys.path)"
   ]
  },
  {
   "cell_type": "code",
   "execution_count": 8,
   "id": "7580cf29",
   "metadata": {},
   "outputs": [
    {
     "data": {
      "application/vnd.microsoft.datawrangler.viewer.v0+json": {
       "columns": [
        {
         "name": "index",
         "rawType": "int64",
         "type": "integer"
        },
        {
         "name": "FEN",
         "rawType": "object",
         "type": "unknown"
        }
       ],
       "ref": "e69cf94d-84ef-4e5f-97d0-0b456a524873",
       "rows": [
        [
         "0",
         "{'a': {'1': '', '2': 'P', '3': '', '4': '', '5': '', '6': '', '7': 'p', '8': 'r'}, 'b': {'1': '', '2': 'q', '3': 'N', '4': '', '5': '', '6': '', '7': 'p', '8': ''}, 'c': {'1': '', '2': 'P', '3': '', '4': '', '5': '', '6': '', '7': '', '8': ''}, 'd': {'1': '', '2': '', '3': 'P', '4': '', '5': 'p', '6': '', '7': '', '8': ''}, 'e': {'1': '', '2': '', '3': '', '4': '', '5': '', '6': 'R', '7': 'r', '8': ''}, 'f': {'1': '', '2': 'b', '3': '', '4': '', '5': '', '6': 'p', '7': '', '8': ''}, 'g': {'1': '', '2': 'P', '3': 'R', '4': '', '5': '', '6': '', '7': '', '8': ''}, 'h': {'1': 'K', '2': 'P', '3': '', '4': '', '5': '', '6': 'Q', '7': 'p', '8': 'k'}}"
        ],
        [
         "1",
         "{'a': {'1': '', '2': 'P', '3': '', '4': '', '5': '', '6': 'p', '7': '', '8': ''}, 'b': {'1': '', '2': '', '3': 'P', '4': '', '5': '', '6': 'q', '7': 'p', '8': ''}, 'c': {'1': '', '2': '', '3': '', '4': '', '5': '', '6': '', '7': '', '8': ''}, 'd': {'1': 'R', '2': '', '3': 'Q', '4': '', '5': '', '6': '', '7': '', '8': ''}, 'e': {'1': '', '2': '', '3': '', '4': '', '5': '', '6': '', '7': '', '8': ''}, 'f': {'1': '', '2': 'P', '3': 'N', '4': '', '5': '', '6': 'b', '7': 'p', '8': 'r'}, 'g': {'1': 'K', '2': 'P', '3': '', '4': '', '5': '', '6': '', '7': 'p', '8': 'k'}, 'h': {'1': '', '2': 'P', '3': '', '4': '', '5': '', '6': '', '7': 'p', '8': ''}}"
        ],
        [
         "2",
         "{'a': {'1': '', '2': '', '3': '', '4': 'P', '5': 'p', '6': '', '7': '', '8': ''}, 'b': {'1': '', '2': '', '3': 'P', '4': '', '5': '', '6': 'p', '7': '', '8': ''}, 'c': {'1': '', '2': '', '3': '', '4': '', '5': '', '6': '', '7': '', '8': ''}, 'd': {'1': '', '2': '', '3': '', '4': '', '5': '', '6': '', '7': '', '8': ''}, 'e': {'1': '', '2': 'K', '3': '', '4': '', '5': '', '6': 'P', '7': 'R', '8': ''}, 'f': {'1': '', '2': '', '3': 'P', '4': '', '5': 'r', '6': '', '7': '', '8': ''}, 'g': {'1': '', '2': '', '3': 'k', '4': '', '5': '', '6': '', '7': '', '8': ''}, 'h': {'1': '', '2': '', '3': '', '4': 'p', '5': '', '6': '', '7': '', '8': ''}}"
        ],
        [
         "3",
         "{'a': {'1': 'R', '2': '', '3': 'B', '4': '', '5': 'P', '6': 'p', '7': 'b', '8': 'r'}, 'b': {'1': 'N', '2': '', '3': '', '4': '', '5': '', '6': 'p', '7': '', '8': ''}, 'c': {'1': '', '2': '', '3': '', '4': '', '5': 'P', '6': '', '7': 'p', '8': ''}, 'd': {'1': 'Q', '2': 'N', '3': 'P', '4': '', '5': '', '6': '', '7': '', '8': 'q'}, 'e': {'1': 'R', '2': 'B', '3': '', '4': 'P', '5': 'p', '6': '', '7': '', '8': 'r'}, 'f': {'1': '', '2': 'P', '3': '', '4': '', '5': '', '6': '', '7': 'p', '8': ''}, 'g': {'1': 'K', '2': '', '3': 'P', '4': 'n', '5': '', '6': 'n', '7': 'p', '8': 'k'}, 'h': {'1': '', '2': 'P', '3': 'b', '4': '', '5': '', '6': '', '7': 'p', '8': ''}}"
        ],
        [
         "4",
         "{'a': {'1': '', '2': 'P', '3': '', '4': '', '5': '', '6': 'p', '7': '', '8': 'r'}, 'b': {'1': '', '2': '', '3': '', '4': '', '5': '', '6': '', '7': 'p', '8': ''}, 'c': {'1': '', '2': 'q', '3': '', '4': '', '5': '', '6': '', '7': '', '8': ''}, 'd': {'1': 'R', '2': '', '3': '', '4': 'P', '5': 'R', '6': '', '7': '', '8': ''}, 'e': {'1': '', '2': '', '3': '', '4': '', '5': '', '6': '', '7': '', '8': ''}, 'f': {'1': '', '2': 'P', '3': '', '4': '', '5': 'N', '6': '', '7': 'p', '8': 'r'}, 'g': {'1': 'K', '2': '', '3': '', '4': '', '5': '', '6': 'p', '7': 'k', '8': ''}, 'h': {'1': '', '2': '', '3': '', '4': '', '5': 'Q', '6': '', '7': 'p', '8': ''}}"
        ],
        [
         "5",
         "{'a': {'1': '', '2': '', '3': '', '4': '', '5': '', '6': '', '7': '', '8': ''}, 'b': {'1': '', '2': '', '3': '', '4': '', '5': '', '6': '', '7': '', '8': ''}, 'c': {'1': '', '2': '', '3': '', '4': '', '5': 'K', '6': '', '7': '', '8': ''}, 'd': {'1': '', '2': '', '3': '', '4': '', '5': 'p', '6': '', '7': '', '8': ''}, 'e': {'1': '', '2': '', '3': '', '4': '', '5': 'P', '6': 'k', '7': '', '8': ''}, 'f': {'1': '', '2': '', '3': '', '4': 'P', '5': '', '6': '', '7': '', '8': ''}, 'g': {'1': '', '2': '', '3': '', '4': 'P', '5': '', '6': 'p', '7': '', '8': ''}, 'h': {'1': '', '2': '', '3': '', '4': '', '5': 'p', '6': '', '7': '', '8': ''}}"
        ],
        [
         "6",
         "{'a': {'1': '', '2': '', '3': 'P', '4': '', '5': '', '6': 'p', '7': '', '8': ''}, 'b': {'1': '', '2': 'P', '3': '', '4': '', '5': 'b', '6': 'p', '7': 'k', '8': ''}, 'c': {'1': '', '2': '', '3': 'R', '4': '', '5': '', '6': '', '7': '', '8': ''}, 'd': {'1': '', '2': '', '3': '', '4': 'R', '5': '', '6': '', '7': '', '8': ''}, 'e': {'1': '', '2': '', '3': '', '4': '', '5': 'P', '6': '', '7': '', '8': 'r'}, 'f': {'1': '', '2': '', '3': 'P', '4': 'p', '5': '', '6': 'r', '7': '', '8': ''}, 'g': {'1': 'K', '2': 'P', '3': '', '4': '', '5': '', '6': '', '7': '', '8': ''}, 'h': {'1': '', '2': 'P', '3': '', '4': '', '5': 'p', '6': '', '7': '', '8': ''}}"
        ],
        [
         "7",
         "{'a': {'1': '', '2': '', '3': 'P', '4': '', '5': 'q', '6': '', '7': 'p', '8': 'r'}, 'b': {'1': '', '2': 'P', '3': '', '4': '', '5': '', '6': '', '7': 'p', '8': ''}, 'c': {'1': 'K', '2': 'P', '3': 'Q', '4': '', '5': 'p', '6': 'n', '7': '', '8': ''}, 'd': {'1': 'R', '2': '', '3': '', '4': '', '5': 'p', '6': '', '7': '', '8': ''}, 'e': {'1': '', '2': 'P', '3': '', '4': '', '5': '', '6': 'b', '7': '', '8': ''}, 'f': {'1': '', '2': 'P', '3': 'N', '4': '', '5': '', '6': '', '7': 'p', '8': 'r'}, 'g': {'1': '', '2': '', '3': 'P', '4': '', '5': 'B', '6': '', '7': 'p', '8': 'k'}, 'h': {'1': 'R', '2': 'P', '3': '', '4': '', '5': '', '6': '', '7': 'p', '8': ''}}"
        ],
        [
         "8",
         "{'a': {'1': '', '2': 'P', '3': '', '4': '', '5': '', '6': '', '7': 'p', '8': 'r'}, 'b': {'1': '', '2': '', '3': 'P', '4': '', '5': '', '6': '', '7': 'p', '8': ''}, 'c': {'1': '', '2': '', '3': 'N', '4': 'B', '5': '', '6': 'p', '7': '', '8': 'b'}, 'd': {'1': 'R', '2': '', '3': '', '4': 'P', '5': '', '6': '', '7': 'n', '8': 'q'}, 'e': {'1': '', '2': 'Q', '3': '', '4': '', '5': '', '6': 'p', '7': 'b', '8': 'k'}, 'f': {'1': 'R', '2': 'P', '3': '', '4': '', '5': '', '6': '', '7': 'N', '8': ''}, 'g': {'1': 'K', '2': '', '3': 'P', '4': '', '5': '', '6': '', '7': 'p', '8': ''}, 'h': {'1': '', '2': 'P', '3': '', '4': '', '5': '', '6': 'p', '7': '', '8': 'r'}}"
        ],
        [
         "9",
         "{'a': {'1': '', '2': 'P', '3': '', '4': '', '5': '', '6': '', '7': 'p', '8': ''}, 'b': {'1': '', '2': 'P', '3': '', '4': '', '5': 'B', '6': 'q', '7': 'Q', '8': ''}, 'c': {'1': '', '2': 'P', '3': '', '4': '', '5': '', '6': 'n', '7': 'N', '8': ''}, 'd': {'1': 'R', '2': '', '3': '', '4': '', '5': '', '6': 'b', '7': 'k', '8': 'r'}, 'e': {'1': '', '2': '', '3': '', '4': '', '5': '', '6': '', '7': '', '8': ''}, 'f': {'1': 'R', '2': '', '3': '', '4': '', '5': '', '6': 'n', '7': 'p', '8': ''}, 'g': {'1': '', '2': 'P', '3': '', '4': '', '5': '', '6': '', '7': 'p', '8': ''}, 'h': {'1': 'K', '2': 'P', '3': '', '4': '', '5': '', '6': '', '7': 'p', '8': 'r'}}"
        ],
        [
         "10",
         "{'a': {'1': '', '2': 'P', '3': '', '4': '', '5': '', '6': 'p', '7': '', '8': ''}, 'b': {'1': '', '2': '', '3': '', '4': 'P', '5': 'b', '6': '', '7': '', '8': ''}, 'c': {'1': 'R', '2': '', '3': 'R', '4': '', '5': '', '6': '', '7': '', '8': ''}, 'd': {'1': '', '2': '', '3': '', '4': 'P', '5': '', '6': '', '7': '', '8': ''}, 'e': {'1': '', '2': 'p', '3': 'Q', '4': '', '5': 'B', '6': '', '7': '', '8': ''}, 'f': {'1': '', '2': '', '3': '', '4': 'P', '5': '', '6': '', '7': 'r', '8': 'r'}, 'g': {'1': 'K', '2': 'P', '3': '', '4': 'q', '5': '', '6': '', '7': 'p', '8': ''}, 'h': {'1': '', '2': '', '3': '', '4': '', '5': 'p', '6': '', '7': '', '8': 'k'}}"
        ],
        [
         "11",
         "{'a': {'1': '', '2': '', '3': '', '4': '', '5': '', '6': '', '7': '', '8': ''}, 'b': {'1': '', '2': '', '3': '', '4': '', '5': '', '6': '', '7': '', '8': ''}, 'c': {'1': '', '2': 'r', '3': '', '4': '', '5': '', '6': '', '7': '', '8': ''}, 'd': {'1': '', '2': '', '3': '', '4': '', '5': '', '6': '', '7': '', '8': ''}, 'e': {'1': '', '2': '', '3': '', '4': 'b', '5': '', '6': '', '7': '', '8': ''}, 'f': {'1': '', '2': 'K', '3': '', '4': 'k', '5': 'p', '6': '', '7': '', '8': ''}, 'g': {'1': 'R', '2': '', '3': '', '4': '', '5': '', '6': '', '7': '', '8': ''}, 'h': {'1': '', '2': '', '3': '', '4': 'P', '5': '', '6': '', '7': 'R', '8': ''}}"
        ],
        [
         "12",
         "{'a': {'1': '', '2': '', '3': '', '4': '', '5': 'p', '6': 'K', '7': '', '8': ''}, 'b': {'1': '', '2': '', '3': 'P', '4': 'p', '5': 'B', '6': '', '7': '', '8': ''}, 'c': {'1': '', '2': '', '3': '', '4': '', '5': '', '6': '', '7': '', '8': ''}, 'd': {'1': '', '2': 'p', '3': '', '4': '', '5': '', '6': '', '7': '', '8': 'R'}, 'e': {'1': '', '2': '', '3': 'k', '4': '', '5': 'b', '6': '', '7': '', '8': ''}, 'f': {'1': '', '2': '', '3': '', '4': '', '5': '', '6': '', '7': '', '8': ''}, 'g': {'1': '', '2': '', '3': '', '4': '', '5': '', '6': '', '7': '', '8': ''}, 'h': {'1': '', '2': '', '3': '', '4': '', '5': '', '6': '', '7': '', '8': ''}}"
        ],
        [
         "13",
         "{'a': {'1': '', '2': '', '3': 'P', '4': '', '5': '', '6': '', '7': '', '8': ''}, 'b': {'1': '', '2': 'P', '3': '', '4': '', '5': '', '6': 'p', '7': '', '8': ''}, 'c': {'1': '', '2': '', '3': '', '4': 'q', '5': '', '6': '', '7': '', '8': ''}, 'd': {'1': '', '2': '', '3': '', '4': 'Q', '5': 'p', '6': '', '7': '', '8': ''}, 'e': {'1': '', '2': '', '3': '', '4': '', '5': '', '6': '', '7': '', '8': 'r'}, 'f': {'1': '', '2': 'R', '3': 'N', '4': '', '5': '', '6': 'n', '7': 'p', '8': ''}, 'g': {'1': '', '2': 'P', '3': '', '4': '', '5': '', '6': 'p', '7': 'k', '8': ''}, 'h': {'1': 'K', '2': '', '3': 'P', '4': '', '5': 'p', '6': '', '7': '', '8': ''}}"
        ],
        [
         "14",
         "{'a': {'1': 'R', '2': '', '3': 'P', '4': '', '5': 'p', '6': '', '7': '', '8': 'r'}, 'b': {'1': '', '2': 'P', '3': '', '4': '', '5': '', '6': 'n', '7': '', '8': ''}, 'c': {'1': 'B', '2': '', '3': '', '4': 'p', '5': 'b', '6': 'p', '7': '', '8': ''}, 'd': {'1': 'Q', '2': '', '3': '', '4': '', '5': '', '6': '', '7': '', '8': 'q'}, 'e': {'1': '', '2': '', '3': '', '4': 'B', '5': '', '6': '', '7': '', '8': ''}, 'f': {'1': 'R', '2': 'P', '3': '', '4': '', '5': '', '6': '', '7': 'p', '8': 'r'}, 'g': {'1': 'K', '2': 'P', '3': '', '4': '', '5': '', '6': '', '7': 'p', '8': 'k'}, 'h': {'1': '', '2': 'P', '3': '', '4': '', '5': '', '6': '', '7': 'p', '8': ''}}"
        ],
        [
         "15",
         "{'a': {'1': 'R', '2': 'P', '3': '', '4': '', '5': '', '6': '', '7': 'p', '8': 'r'}, 'b': {'1': '', '2': 'P', '3': '', '4': '', '5': '', '6': 'n', '7': 'p', '8': ''}, 'c': {'1': '', '2': '', '3': 'N', '4': 'P', '5': '', '6': '', '7': '', '8': ''}, 'd': {'1': 'Q', '2': '', '3': 'B', '4': '', '5': 'P', '6': 'p', '7': '', '8': 'q'}, 'e': {'1': 'K', '2': '', '3': 'B', '4': '', '5': 'n', '6': '', '7': 'p', '8': 'k'}, 'f': {'1': '', '2': 'P', '3': 'P', '4': '', '5': '', '6': '', '7': 'p', '8': ''}, 'g': {'1': '', '2': '', '3': '', '4': '', '5': '', '6': 'p', '7': 'b', '8': ''}, 'h': {'1': 'R', '2': '', '3': 'P', '4': '', '5': '', '6': '', '7': 'p', '8': 'r'}}"
        ],
        [
         "16",
         "{'a': {'1': '', '2': '', '3': '', '4': '', '5': '', '6': '', '7': 'p', '8': ''}, 'b': {'1': '', '2': '', '3': 'P', '4': '', '5': 'N', '6': '', '7': 'p', '8': ''}, 'c': {'1': '', '2': 'q', '3': '', '4': '', '5': '', '6': '', '7': '', '8': 'k'}, 'd': {'1': '', '2': '', '3': 'P', '4': 'Q', '5': 'p', '6': '', '7': '', '8': 'r'}, 'e': {'1': '', '2': '', '3': '', '4': '', '5': '', '6': 'p', '7': '', '8': ''}, 'f': {'1': 'R', '2': 'P', '3': '', '4': '', '5': '', '6': '', '7': 'p', '8': ''}, 'g': {'1': 'K', '2': 'P', '3': '', '4': '', '5': 'p', '6': '', '7': '', '8': ''}, 'h': {'1': '', '2': 'P', '3': '', '4': '', '5': '', '6': 'p', '7': '', '8': 'r'}}"
        ],
        [
         "17",
         "{'a': {'1': 'R', '2': 'P', '3': '', '4': '', '5': '', '6': '', '7': 'p', '8': ''}, 'b': {'1': '', '2': '', '3': 'P', '4': '', '5': '', '6': 'q', '7': 'p', '8': ''}, 'c': {'1': '', '2': 'P', '3': '', '4': '', '5': '', '6': 'p', '7': '', '8': ''}, 'd': {'1': '', '2': 'r', '3': '', '4': '', '5': '', '6': '', '7': 'r', '8': ''}, 'e': {'1': '', '2': '', '3': '', '4': '', '5': 'P', '6': 'p', '7': '', '8': ''}, 'f': {'1': '', '2': 'P', '3': '', '4': 'Q', '5': '', '6': '', '7': 'p', '8': ''}, 'g': {'1': 'K', '2': 'P', '3': 'R', '4': '', '5': '', '6': '', '7': 'p', '8': 'k'}, 'h': {'1': '', '2': '', '3': '', '4': '', '5': 'P', '6': 'p', '7': '', '8': ''}}"
        ],
        [
         "18",
         "{'a': {'1': '', '2': '', '3': '', '4': '', '5': 'p', '6': 'r', '7': '', '8': ''}, 'b': {'1': '', '2': '', '3': '', '4': '', '5': '', '6': '', '7': '', '8': ''}, 'c': {'1': '', '2': 'P', '3': 'P', '4': '', '5': 'n', '6': 'p', '7': '', '8': ''}, 'd': {'1': 'R', '2': '', '3': '', '4': '', '5': '', '6': '', '7': '', '8': ''}, 'e': {'1': '', '2': '', '3': '', '4': '', '5': 'R', '6': '', '7': '', '8': 'r'}, 'f': {'1': '', '2': '', '3': 'N', '4': '', '5': 'P', '6': '', '7': 'p', '8': ''}, 'g': {'1': 'K', '2': 'P', '3': '', '4': '', '5': '', '6': '', '7': 'p', '8': 'k'}, 'h': {'1': '', '2': '', '3': 'P', '4': '', '5': '', '6': '', '7': 'p', '8': ''}}"
        ],
        [
         "19",
         "{'a': {'1': '', '2': '', '3': 'P', '4': '', '5': '', '6': '', '7': 'p', '8': ''}, 'b': {'1': 'R', '2': '', '3': '', '4': '', '5': '', '6': '', '7': 'b', '8': 'q'}, 'c': {'1': '', '2': 'Q', '3': 'B', '4': 'p', '5': '', '6': '', '7': '', '8': 'r'}, 'd': {'1': '', '2': '', '3': 'n', '4': '', '5': '', '6': '', '7': '', '8': ''}, 'e': {'1': '', '2': '', '3': '', '4': 'N', '5': '', '6': '', '7': 'b', '8': ''}, 'f': {'1': 'R', '2': 'P', '3': '', '4': '', '5': '', '6': '', '7': 'p', '8': 'r'}, 'g': {'1': 'K', '2': 'B', '3': 'P', '4': '', '5': '', '6': '', '7': 'p', '8': 'k'}, 'h': {'1': '', '2': 'P', '3': '', '4': '', '5': '', '6': '', '7': 'p', '8': ''}}"
        ],
        [
         "20",
         "{'a': {'1': '', '2': 'R', '3': '', '4': '', '5': 'P', '6': '', '7': '', '8': ''}, 'b': {'1': '', '2': 'b', '3': '', '4': '', '5': '', '6': '', '7': '', '8': ''}, 'c': {'1': '', '2': '', '3': '', '4': 'P', '5': 'B', '6': '', '7': '', '8': ''}, 'd': {'1': '', '2': 'r', '3': '', '4': '', '5': '', '6': '', '7': '', '8': ''}, 'e': {'1': '', '2': 'N', '3': 'P', '4': '', '5': '', '6': 'p', '7': '', '8': ''}, 'f': {'1': 'K', '2': '', '3': 'n', '4': '', '5': '', '6': '', '7': 'p', '8': ''}, 'g': {'1': '', '2': '', '3': 'p', '4': '', '5': '', '6': '', '7': '', '8': 'k'}, 'h': {'1': '', '2': '', '3': '', '4': 'P', '5': '', '6': '', '7': '', '8': ''}}"
        ],
        [
         "21",
         "{'a': {'1': '', '2': '', '3': '', '4': '', '5': '', '6': 'p', '7': '', '8': ''}, 'b': {'1': '', '2': 'P', '3': '', '4': 'p', '5': '', '6': '', '7': '', '8': ''}, 'c': {'1': '', '2': '', '3': '', '4': '', '5': 'p', '6': '', '7': '', '8': ''}, 'd': {'1': '', '2': '', '3': '', '4': 'p', '5': '', '6': '', '7': 'B', '8': ''}, 'e': {'1': '', '2': '', '3': '', '4': '', '5': '', '6': '', '7': '', '8': ''}, 'f': {'1': '', '2': '', '3': '', '4': 'K', '5': '', '6': '', '7': '', '8': ''}, 'g': {'1': '', '2': '', '3': '', '4': '', '5': 'P', '6': 'k', '7': 'p', '8': ''}, 'h': {'1': '', '2': '', '3': '', '4': '', '5': '', '6': '', '7': 'p', '8': ''}}"
        ],
        [
         "22",
         "{'a': {'1': 'R', '2': 'P', '3': 'N', '4': '', '5': 'b', '6': '', '7': '', '8': 'r'}, 'b': {'1': '', '2': '', '3': '', '4': '', '5': '', '6': '', '7': 'p', '8': ''}, 'c': {'1': '', '2': '', '3': 'Q', '4': '', '5': '', '6': 'n', '7': 'N', '8': ''}, 'd': {'1': '', '2': '', '3': '', '4': '', '5': '', '6': 'p', '7': 'k', '8': ''}, 'e': {'1': 'K', '2': '', '3': '', '4': 'P', '5': 'p', '6': '', '7': '', '8': ''}, 'f': {'1': 'B', '2': 'P', '3': '', '4': '', '5': '', '6': '', '7': 'p', '8': ''}, 'g': {'1': '', '2': 'P', '3': '', '4': 'b', '5': '', '6': '', '7': 'p', '8': ''}, 'h': {'1': 'R', '2': 'P', '3': '', '4': '', '5': '', '6': '', '7': 'p', '8': 'r'}}"
        ],
        [
         "23",
         "{'a': {'1': '', '2': '', '3': 'P', '4': 'p', '5': '', '6': '', '7': '', '8': ''}, 'b': {'1': '', '2': '', '3': '', '4': '', '5': 'p', '6': '', '7': '', '8': ''}, 'c': {'1': 'R', '2': '', '3': '', '4': 'b', '5': '', '6': '', '7': 'r', '8': 'r'}, 'd': {'1': '', '2': '', '3': '', '4': 'P', '5': 'q', '6': '', '7': '', '8': ''}, 'e': {'1': '', '2': '', '3': '', '4': '', '5': '', '6': 'p', '7': '', '8': ''}, 'f': {'1': '', '2': 'B', '3': '', '4': 'P', '5': 'p', '6': '', '7': '', '8': ''}, 'g': {'1': 'K', '2': '', '3': '', '4': '', '5': 'P', '6': 'p', '7': '', '8': 'k'}, 'h': {'1': '', '2': '', '3': 'R', '4': 'Q', '5': '', '6': '', '7': 'p', '8': ''}}"
        ],
        [
         "24",
         "{'a': {'1': 'Q', '2': '', '3': '', '4': 'P', '5': '', '6': '', '7': '', '8': ''}, 'b': {'1': '', '2': '', '3': '', '4': '', '5': '', '6': '', '7': '', '8': ''}, 'c': {'1': '', '2': '', '3': '', '4': 'N', '5': '', '6': 'b', '7': '', '8': ''}, 'd': {'1': '', '2': '', '3': '', '4': '', '5': '', '6': '', '7': '', '8': ''}, 'e': {'1': '', '2': 'R', '3': '', '4': '', '5': '', '6': 'p', '7': '', '8': ''}, 'f': {'1': 'K', '2': 'P', '3': 'n', '4': '', '5': '', '6': 'p', '7': '', '8': ''}, 'g': {'1': '', '2': '', '3': 'P', '4': 'p', '5': '', '6': '', '7': 'k', '8': ''}, 'h': {'1': '', '2': '', '3': '', '4': '', '5': '', '6': '', '7': '', '8': 'r'}}"
        ],
        [
         "25",
         "{'a': {'1': '', '2': '', '3': '', '4': '', '5': '', '6': '', '7': 'p', '8': ''}, 'b': {'1': '', '2': 'P', '3': '', '4': '', '5': 'B', '6': '', '7': 'p', '8': ''}, 'c': {'1': '', '2': 'P', '3': '', '4': '', '5': 'b', '6': '', '7': '', '8': ''}, 'd': {'1': 'R', '2': '', '3': '', '4': '', '5': 'Q', '6': '', '7': '', '8': ''}, 'e': {'1': '', '2': '', '3': '', '4': '', '5': 'p', '6': '', '7': '', '8': ''}, 'f': {'1': '', '2': '', '3': '', '4': '', '5': '', '6': 'p', '7': '', '8': 'r'}, 'g': {'1': '', '2': 'P', '3': '', '4': 'K', '5': 'r', '6': '', '7': 'p', '8': ''}, 'h': {'1': 'R', '2': '', '3': 'P', '4': '', '5': '', '6': '', '7': 'p', '8': 'k'}}"
        ],
        [
         "26",
         "{'a': {'1': '', '2': '', '3': '', '4': '', '5': 'b', '6': 'Q', '7': 'p', '8': ''}, 'b': {'1': '', '2': '', '3': '', '4': '', '5': '', '6': '', '7': '', '8': ''}, 'c': {'1': 'B', '2': '', '3': '', '4': 'n', '5': 'N', '6': '', '7': 'q', '8': 'r'}, 'd': {'1': '', '2': '', '3': '', '4': 'P', '5': 'p', '6': '', '7': '', '8': ''}, 'e': {'1': 'N', '2': '', '3': 'P', '4': '', '5': '', '6': 'p', '7': '', '8': ''}, 'f': {'1': '', '2': 'K', '3': '', '4': 'P', '5': '', '6': '', '7': 'p', '8': ''}, 'g': {'1': '', '2': '', '3': 'P', '4': '', '5': '', '6': '', '7': 'p', '8': 'k'}, 'h': {'1': '', '2': 'P', '3': '', '4': '', '5': '', '6': 'p', '7': '', '8': ''}}"
        ],
        [
         "27",
         "{'a': {'1': '', '2': '', '3': 'r', '4': '', '5': '', '6': '', '7': '', '8': ''}, 'b': {'1': '', '2': '', '3': '', '4': '', '5': '', '6': 'p', '7': 'p', '8': ''}, 'c': {'1': 'R', '2': 'R', '3': '', '4': 'n', '5': 'r', '6': '', '7': '', '8': ''}, 'd': {'1': '', '2': 'n', '3': '', '4': '', '5': '', '6': '', '7': '', '8': ''}, 'e': {'1': '', '2': 'N', '3': 'P', '4': '', '5': 'p', '6': '', '7': '', '8': ''}, 'f': {'1': '', '2': 'P', '3': 'N', '4': '', '5': '', '6': '', '7': 'p', '8': ''}, 'g': {'1': 'K', '2': 'P', '3': '', '4': '', '5': '', '6': '', '7': 'p', '8': 'k'}, 'h': {'1': '', '2': 'P', '3': '', '4': '', '5': '', '6': 'p', '7': '', '8': ''}}"
        ],
        [
         "28",
         "{'a': {'1': '', '2': '', '3': '', '4': '', '5': '', '6': '', '7': 'q', '8': ''}, 'b': {'1': '', '2': '', '3': '', '4': '', '5': '', '6': '', '7': '', '8': 'r'}, 'c': {'1': '', '2': 'Q', '3': 'P', '4': '', '5': '', '6': '', '7': '', '8': 'b'}, 'd': {'1': 'R', '2': 'K', '3': '', '4': 'P', '5': 'p', '6': '', '7': '', '8': ''}, 'e': {'1': '', '2': '', '3': '', '4': '', '5': '', '6': 'p', '7': '', '8': ''}, 'f': {'1': '', '2': '', '3': '', '4': 'P', '5': '', '6': '', '7': '', '8': 'r'}, 'g': {'1': 'R', '2': '', '3': '', '4': '', '5': '', '6': '', '7': 'P', '8': 'k'}, 'h': {'1': '', '2': 'P', '3': '', '4': '', '5': 'p', '6': 'p', '7': '', '8': ''}}"
        ],
        [
         "29",
         "{'a': {'1': '', '2': '', '3': '', '4': '', '5': '', '6': 'k', '7': 'p', '8': ''}, 'b': {'1': '', '2': '', '3': '', '4': 'Q', '5': '', '6': '', '7': 'p', '8': ''}, 'c': {'1': '', '2': '', '3': 'P', '4': 'N', '5': '', '6': 'p', '7': '', '8': ''}, 'd': {'1': '', '2': '', '3': '', '4': '', '5': '', '6': '', '7': '', '8': ''}, 'e': {'1': '', '2': 'K', '3': 'P', '4': '', '5': '', '6': '', '7': '', '8': ''}, 'f': {'1': '', '2': 'P', '3': '', '4': '', '5': '', '6': '', '7': 'p', '8': ''}, 'g': {'1': '', '2': 'q', '3': '', '4': '', '5': '', '6': '', '7': '', '8': 'n'}, 'h': {'1': '', '2': 'P', '3': '', '4': '', '5': '', '6': '', '7': 'p', '8': 'r'}}"
        ],
        [
         "30",
         "{'a': {'1': 'R', '2': 'P', '3': '', '4': '', '5': '', '6': '', '7': 'p', '8': 'r'}, 'b': {'1': '', '2': 'P', '3': '', '4': '', '5': 'Q', '6': 'b', '7': 'b', '8': ''}, 'c': {'1': 'B', '2': '', '3': 'N', '4': '', '5': '', '6': '', '7': '', '8': ''}, 'd': {'1': '', '2': '', '3': 'P', '4': '', '5': '', '6': '', '7': 'p', '8': ''}, 'e': {'1': '', '2': '', '3': '', '4': '', '5': 'P', '6': '', '7': '', '8': 'k'}, 'f': {'1': 'R', '2': '', '3': 'P', '4': '', '5': '', '6': '', '7': 'p', '8': ''}, 'g': {'1': '', '2': 'P', '3': 'n', '4': '', '5': '', '6': 'q', '7': 'p', '8': ''}, 'h': {'1': 'K', '2': 'P', '3': '', '4': '', '5': '', '6': '', '7': 'p', '8': 'r'}}"
        ],
        [
         "31",
         "{'a': {'1': '', '2': '', '3': '', '4': '', '5': '', '6': 'P', '7': 'p', '8': 'r'}, 'b': {'1': '', '2': 'P', '3': '', '4': '', '5': '', '6': 'p', '7': '', '8': ''}, 'c': {'1': '', '2': 'P', '3': 'N', '4': 'B', '5': '', '6': '', '7': '', '8': ''}, 'd': {'1': 'R', '2': 'Q', '3': '', '4': '', '5': 'P', '6': 'q', '7': '', '8': ''}, 'e': {'1': 'R', '2': '', '3': '', '4': '', '5': 'p', '6': '', '7': 'p', '8': ''}, 'f': {'1': '', '2': 'P', '3': '', '4': '', '5': 'b', '6': 'n', '7': 'p', '8': 'r'}, 'g': {'1': 'K', '2': 'P', '3': '', '4': '', '5': 'B', '6': 'p', '7': 'b', '8': 'k'}, 'h': {'1': '', '2': 'P', '3': '', '4': '', '5': '', '6': '', '7': 'p', '8': ''}}"
        ],
        [
         "32",
         "{'a': {'1': '', '2': '', '3': 'P', '4': '', '5': '', '6': '', '7': 'p', '8': 'k'}, 'b': {'1': '', '2': '', '3': 'Q', '4': 'P', '5': '', '6': 'p', '7': '', '8': ''}, 'c': {'1': 'R', '2': '', '3': 'R', '4': '', '5': 'N', '6': '', '7': 'r', '8': 'r'}, 'd': {'1': '', '2': '', '3': 'B', '4': 'P', '5': 'p', '6': 'q', '7': '', '8': ''}, 'e': {'1': '', '2': '', '3': 'P', '4': '', '5': '', '6': 'p', '7': 'n', '8': 'b'}, 'f': {'1': '', '2': 'P', '3': 'N', '4': '', '5': '', '6': 'n', '7': 'p', '8': ''}, 'g': {'1': 'K', '2': 'P', '3': '', '4': '', '5': '', '6': '', '7': 'p', '8': ''}, 'h': {'1': '', '2': 'P', '3': '', '4': '', '5': '', '6': '', '7': 'p', '8': ''}}"
        ],
        [
         "33",
         "{'a': {'1': '', '2': '', '3': '', '4': '', '5': '', '6': 'p', '7': '', '8': ''}, 'b': {'1': '', '2': '', '3': '', '4': '', '5': '', '6': '', '7': '', '8': ''}, 'c': {'1': '', '2': '', '3': '', '4': '', '5': '', '6': '', '7': '', '8': ''}, 'd': {'1': '', '2': '', '3': '', '4': '', '5': 'B', '6': '', '7': '', '8': ''}, 'e': {'1': '', '2': '', '3': '', '4': '', '5': '', '6': '', '7': 'R', '8': ''}, 'f': {'1': '', '2': 'P', '3': '', '4': 'q', '5': '', '6': '', '7': '', '8': ''}, 'g': {'1': 'K', '2': '', '3': '', '4': '', '5': '', '6': 'p', '7': 'k', '8': ''}, 'h': {'1': '', '2': 'P', '3': '', '4': '', '5': '', '6': 'p', '7': '', '8': ''}}"
        ],
        [
         "34",
         "{'a': {'1': 'R', '2': 'P', '3': '', '4': '', '5': '', '6': '', '7': 'p', '8': 'r'}, 'b': {'1': 'N', '2': 'P', '3': '', '4': '', '5': '', '6': '', '7': 'p', '8': ''}, 'c': {'1': '', '2': '', '3': '', '4': 'P', '5': '', '6': '', '7': 'p', '8': ''}, 'd': {'1': '', '2': '', '3': '', '4': 'P', '5': 'p', '6': '', '7': 'q', '8': ''}, 'e': {'1': 'K', '2': '', '3': 'P', '4': '', '5': '', '6': '', '7': 'p', '8': 'k'}, 'f': {'1': 'B', '2': 'P', '3': '', '4': '', '5': 'b', '6': 'p', '7': 'n', '8': 'b'}, 'g': {'1': '', '2': 'P', '3': 'B', '4': '', '5': 'p', '6': '', '7': '', '8': ''}, 'h': {'1': 'R', '2': 'P', '3': '', '4': '', '5': 'Q', '6': '', '7': 'p', '8': 'r'}}"
        ],
        [
         "35",
         "{'a': {'1': '', '2': '', '3': 'P', '4': '', '5': '', '6': '', '7': 'p', '8': 'r'}, 'b': {'1': '', '2': 'P', '3': '', '4': '', '5': '', '6': '', '7': 'p', '8': ''}, 'c': {'1': 'K', '2': 'P', '3': '', '4': '', '5': '', '6': '', '7': '', '8': ''}, 'd': {'1': 'R', '2': '', '3': '', '4': 'n', '5': '', '6': '', '7': '', '8': ''}, 'e': {'1': '', '2': '', '3': '', '4': '', '5': 'p', '6': 'p', '7': '', '8': ''}, 'f': {'1': 'R', '2': 'Q', '3': '', '4': '', '5': '', '6': '', '7': '', '8': ''}, 'g': {'1': '', '2': '', '3': 'P', '4': '', '5': '', '6': 'q', '7': 'p', '8': 'k'}, 'h': {'1': '', '2': 'P', '3': '', '4': '', '5': '', '6': '', '7': 'p', '8': ''}}"
        ],
        [
         "36",
         "{'a': {'1': 'R', '2': '', '3': '', '4': '', '5': 'P', '6': 'p', '7': '', '8': 'r'}, 'b': {'1': '', '2': '', '3': '', '4': 'P', '5': 'p', '6': '', '7': '', '8': ''}, 'c': {'1': '', '2': '', '3': 'P', '4': '', '5': '', '6': '', '7': 'p', '8': ''}, 'd': {'1': '', '2': '', '3': 'Q', '4': '', '5': 'P', '6': 'p', '7': '', '8': ''}, 'e': {'1': '', '2': '', '3': '', '4': 'P', '5': '', '6': '', '7': '', '8': ''}, 'f': {'1': '', '2': '', '3': '', '4': '', '5': '', '6': 'q', '7': 'r', '8': ''}, 'g': {'1': 'K', '2': 'R', '3': '', '4': '', '5': '', '6': '', '7': '', '8': ''}, 'h': {'1': '', '2': '', '3': '', '4': '', '5': '', '6': 'p', '7': 'k', '8': ''}}"
        ],
        [
         "37",
         "{'a': {'1': '', '2': '', '3': '', '4': 'P', '5': 'p', '6': 'k', '7': '', '8': ''}, 'b': {'1': '', '2': '', '3': '', '4': '', '5': '', '6': 'p', '7': '', '8': ''}, 'c': {'1': '', '2': '', '3': '', '4': '', '5': '', '6': 'q', '7': '', '8': ''}, 'd': {'1': '', '2': 'r', '3': '', '4': '', '5': '', '6': '', '7': '', '8': ''}, 'e': {'1': 'R', '2': '', '3': '', '4': '', '5': '', '6': '', '7': '', '8': ''}, 'f': {'1': '', '2': '', '3': '', '4': '', '5': 'p', '6': '', '7': '', '8': ''}, 'g': {'1': '', '2': 'P', '3': '', '4': '', '5': 'Q', '6': '', '7': '', '8': ''}, 'h': {'1': 'K', '2': '', '3': 'P', '4': '', '5': 'p', '6': '', '7': '', '8': ''}}"
        ],
        [
         "38",
         "{'a': {'1': '', '2': '', '3': '', '4': '', '5': '', '6': '', '7': '', '8': ''}, 'b': {'1': '', '2': '', '3': 'P', '4': '', '5': '', '6': '', '7': '', '8': ''}, 'c': {'1': '', '2': '', '3': 'n', '4': '', '5': '', '6': '', '7': '', '8': ''}, 'd': {'1': '', '2': '', '3': '', '4': '', '5': '', '6': '', '7': '', '8': ''}, 'e': {'1': '', '2': '', '3': '', '4': '', '5': 'N', '6': 'p', '7': '', '8': ''}, 'f': {'1': 'R', '2': 'P', '3': '', '4': '', '5': '', '6': '', '7': 'p', '8': 'r'}, 'g': {'1': 'K', '2': 'P', '3': '', '4': '', '5': '', '6': '', '7': 'p', '8': 'k'}, 'h': {'1': '', '2': 'P', '3': '', '4': '', '5': '', '6': '', '7': 'p', '8': ''}}"
        ],
        [
         "39",
         "{'a': {'1': 'R', '2': '', '3': '', '4': '', '5': 'P', '6': 'p', '7': '', '8': 'r'}, 'b': {'1': 'B', '2': '', '3': '', '4': '', '5': '', '6': '', '7': '', '8': ''}, 'c': {'1': '', '2': '', '3': 'P', '4': 'p', '5': '', '6': 'n', '7': '', '8': ''}, 'd': {'1': 'Q', '2': '', '3': '', '4': 'P', '5': 'p', '6': 'q', '7': '', '8': ''}, 'e': {'1': 'K', '2': '', '3': 'P', '4': '', '5': 'N', '6': 'p', '7': '', '8': 'b'}, 'f': {'1': '', '2': 'P', '3': 'N', '4': '', '5': '', '6': 'n', '7': 'p', '8': 'r'}, 'g': {'1': '', '2': 'P', '3': '', '4': '', '5': '', '6': '', '7': 'p', '8': 'k'}, 'h': {'1': 'R', '2': 'P', '3': '', '4': '', '5': '', '6': 'p', '7': '', '8': ''}}"
        ],
        [
         "40",
         "{'a': {'1': 'R', '2': 'P', '3': '', '4': '', '5': '', '6': '', '7': 'p', '8': 'r'}, 'b': {'1': 'N', '2': '', '3': '', '4': 'P', '5': '', '6': '', '7': 'p', '8': ''}, 'c': {'1': 'B', '2': '', '3': 'P', '4': '', '5': 'P', '6': '', '7': 'q', '8': ''}, 'd': {'1': 'Q', '2': '', '3': '', '4': '', '5': 'p', '6': '', '7': '', '8': ''}, 'e': {'1': '', '2': 'B', '3': '', '4': '', '5': 'n', '6': 'p', '7': '', '8': 'k'}, 'f': {'1': 'R', '2': 'P', '3': 'N', '4': '', '5': '', '6': 'n', '7': 'p', '8': 'b'}, 'g': {'1': 'K', '2': 'P', '3': '', '4': 'b', '5': '', '6': '', '7': 'p', '8': ''}, 'h': {'1': '', '2': '', '3': '', '4': 'P', '5': '', '6': '', '7': 'p', '8': 'r'}}"
        ],
        [
         "41",
         "{'a': {'1': '', '2': 'P', '3': '', '4': '', '5': '', '6': '', '7': 'p', '8': ''}, 'b': {'1': '', '2': 'P', '3': '', '4': '', '5': '', '6': 'p', '7': '', '8': ''}, 'c': {'1': '', '2': '', '3': '', '4': '', '5': '', '6': 'p', '7': '', '8': ''}, 'd': {'1': '', '2': 'R', '3': '', '4': '', '5': '', '6': '', '7': 'q', '8': ''}, 'e': {'1': '', '2': '', '3': 'Q', '4': '', '5': '', '6': '', '7': '', '8': ''}, 'f': {'1': 'K', '2': 'P', '3': '', '4': '', '5': '', '6': '', '7': 'p', '8': ''}, 'g': {'1': 'N', '2': '', '3': '', '4': 'P', '5': '', '6': 'p', '7': 'k', '8': ''}, 'h': {'1': '', '2': 'r', '3': '', '4': '', '5': '', '6': '', '7': '', '8': 'r'}}"
        ],
        [
         "42",
         "{'a': {'1': '', '2': '', '3': '', '4': '', '5': 'p', '6': '', '7': '', '8': ''}, 'b': {'1': '', '2': '', '3': '', '4': '', '5': '', '6': '', '7': 'b', '8': ''}, 'c': {'1': 'R', '2': '', '3': '', '4': '', '5': '', '6': '', '7': '', '8': ''}, 'd': {'1': '', '2': '', '3': 'q', '4': '', '5': '', '6': 'p', '7': 'n', '8': 'r'}, 'e': {'1': '', '2': '', '3': '', '4': 'P', '5': '', '6': '', '7': '', '8': ''}, 'f': {'1': 'R', '2': '', '3': 'B', '4': '', '5': 'P', '6': '', '7': 'p', '8': 'r'}, 'g': {'1': 'K', '2': '', '3': 'N', '4': '', '5': 'P', '6': '', '7': 'p', '8': 'k'}, 'h': {'1': '', '2': '', '3': '', '4': '', '5': 'Q', '6': '', '7': '', '8': ''}}"
        ],
        [
         "43",
         "{'a': {'1': 'R', '2': 'P', '3': '', '4': '', '5': '', '6': 'p', '7': '', '8': 'r'}, 'b': {'1': '', '2': '', '3': 'P', '4': '', '5': '', '6': '', '7': '', '8': ''}, 'c': {'1': '', '2': '', '3': 'P', '4': '', '5': 'p', '6': '', '7': 'p', '8': ''}, 'd': {'1': 'Q', '2': 'N', '3': '', '4': 'P', '5': 'p', '6': 'b', '7': '', '8': ''}, 'e': {'1': '', '2': '', '3': 'P', '4': '', '5': 'N', '6': 'p', '7': '', '8': 'q'}, 'f': {'1': 'R', '2': '', '3': '', '4': 'P', '5': 'b', '6': 'n', '7': 'p', '8': 'r'}, 'g': {'1': 'K', '2': 'P', '3': 'B', '4': '', '5': '', '6': '', '7': 'p', '8': 'k'}, 'h': {'1': '', '2': 'P', '3': '', '4': '', '5': '', '6': 'p', '7': '', '8': ''}}"
        ],
        [
         "44",
         "{'a': {'1': 'R', '2': 'P', '3': '', '4': '', '5': '', '6': '', '7': 'p', '8': 'r'}, 'b': {'1': 'N', '2': 'P', '3': '', '4': '', '5': '', '6': '', '7': 'p', '8': ''}, 'c': {'1': '', '2': 'P', '3': '', '4': '', '5': '', '6': 'n', '7': 'p', '8': ''}, 'd': {'1': '', '2': '', '3': '', '4': '', '5': 'p', '6': '', '7': '', '8': ''}, 'e': {'1': 'K', '2': '', '3': 'P', '4': '', '5': 'P', '6': '', '7': 'q', '8': 'k'}, 'f': {'1': 'B', '2': 'P', '3': 'Q', '4': 'B', '5': '', '6': '', '7': 'p', '8': 'b'}, 'g': {'1': '', '2': 'P', '3': '', '4': '', '5': '', '6': '', '7': 'p', '8': 'n'}, 'h': {'1': 'R', '2': 'P', '3': '', '4': '', '5': '', '6': '', '7': 'p', '8': 'r'}}"
        ],
        [
         "45",
         "{'a': {'1': 'R', '2': '', '3': '', '4': '', '5': 'P', '6': '', '7': 'p', '8': 'r'}, 'b': {'1': '', '2': '', '3': '', '4': '', '5': '', '6': '', '7': 'p', '8': ''}, 'c': {'1': '', '2': 'P', '3': 'B', '4': 'B', '5': 'P', '6': '', '7': '', '8': ''}, 'd': {'1': 'Q', '2': '', '3': '', '4': '', '5': '', '6': 'p', '7': '', '8': ''}, 'e': {'1': '', '2': '', '3': '', '4': '', '5': 'p', '6': '', '7': '', '8': ''}, 'f': {'1': 'R', '2': 'P', '3': 'n', '4': '', '5': '', '6': 'q', '7': 'p', '8': 'r'}, 'g': {'1': 'K', '2': '', '3': '', '4': '', '5': '', '6': '', '7': 'p', '8': 'k'}, 'h': {'1': '', '2': 'P', '3': '', '4': '', '5': '', '6': '', '7': 'p', '8': ''}}"
        ],
        [
         "46",
         "{'a': {'1': '', '2': '', '3': '', '4': 'P', '5': 'k', '6': '', '7': '', '8': ''}, 'b': {'1': '', '2': '', '3': 'K', '4': '', '5': '', '6': 'p', '7': '', '8': ''}, 'c': {'1': '', '2': '', '3': '', '4': 'R', '5': '', '6': '', '7': '', '8': ''}, 'd': {'1': '', '2': '', '3': '', '4': '', '5': '', '6': '', '7': '', '8': ''}, 'e': {'1': '', '2': '', '3': '', '4': '', '5': '', '6': '', '7': '', '8': ''}, 'f': {'1': '', '2': '', '3': '', '4': '', '5': '', '6': '', '7': '', '8': ''}, 'g': {'1': '', '2': '', '3': '', '4': '', '5': '', '6': '', '7': '', '8': ''}, 'h': {'1': '', '2': '', '3': 'r', '4': '', '5': '', '6': '', '7': '', '8': ''}}"
        ],
        [
         "47",
         "{'a': {'1': '', '2': '', '3': '', '4': '', '5': '', '6': '', '7': '', '8': ''}, 'b': {'1': '', '2': '', '3': '', '4': '', '5': '', '6': '', '7': '', '8': ''}, 'c': {'1': '', '2': '', '3': '', '4': '', '5': '', '6': 'B', '7': '', '8': ''}, 'd': {'1': '', '2': '', '3': '', '4': 'B', '5': '', '6': '', '7': '', '8': ''}, 'e': {'1': '', '2': 'P', '3': '', '4': '', '5': '', '6': 'b', '7': '', '8': ''}, 'f': {'1': '', '2': '', '3': '', '4': '', '5': '', '6': 'n', '7': '', '8': ''}, 'g': {'1': '', '2': '', '3': 'K', '4': '', '5': 'k', '6': '', '7': 'p', '8': ''}, 'h': {'1': '', '2': '', '3': '', '4': '', '5': '', '6': '', '7': '', '8': ''}}"
        ],
        [
         "48",
         "{'a': {'1': '', '2': '', '3': '', '4': '', '5': 'P', '6': 'p', '7': '', '8': ''}, 'b': {'1': '', '2': 'P', '3': 'R', '4': '', '5': '', '6': '', '7': 'p', '8': ''}, 'c': {'1': '', '2': '', '3': '', '4': '', '5': 'p', '6': '', '7': '', '8': ''}, 'd': {'1': '', '2': 'Q', '3': '', '4': '', '5': 'P', '6': 'p', '7': '', '8': ''}, 'e': {'1': '', '2': '', '3': '', '4': '', '5': '', '6': '', '7': 'R', '8': 'r'}, 'f': {'1': 'B', '2': '', '3': 'p', '4': 'q', '5': '', '6': '', '7': '', '8': ''}, 'g': {'1': '', '2': '', '3': '', '4': '', '5': '', '6': 'P', '7': 'p', '8': 'k'}, 'h': {'1': 'K', '2': 'P', '3': '', '4': '', '5': '', '6': 'p', '7': '', '8': ''}}"
        ],
        [
         "49",
         "{'a': {'1': '', '2': '', '3': 'N', '4': '', '5': 'p', '6': '', '7': '', '8': ''}, 'b': {'1': '', '2': '', '3': '', '4': 'n', '5': '', '6': '', '7': '', '8': ''}, 'c': {'1': '', '2': '', '3': 'p', '4': '', '5': '', '6': 'b', '7': '', '8': ''}, 'd': {'1': '', '2': '', '3': '', '4': 'P', '5': 'p', '6': '', '7': '', '8': ''}, 'e': {'1': '', '2': 'K', '3': 'P', '4': '', '5': '', '6': 'k', '7': '', '8': ''}, 'f': {'1': '', '2': '', '3': '', '4': '', '5': 'p', '6': '', '7': '', '8': ''}, 'g': {'1': '', '2': '', '3': '', '4': '', '5': 'P', '6': '', '7': '', '8': ''}, 'h': {'1': '', '2': '', '3': '', '4': 'P', '5': 'B', '6': '', '7': 'p', '8': ''}}"
        ]
       ],
       "shape": {
        "columns": 1,
        "rows": 4557000
       }
      },
      "text/plain": [
       "0          {'a': {'1': '', '2': 'P', '3': '', '4': '', '5...\n",
       "1          {'a': {'1': '', '2': 'P', '3': '', '4': '', '5...\n",
       "2          {'a': {'1': '', '2': '', '3': '', '4': 'P', '5...\n",
       "3          {'a': {'1': 'R', '2': '', '3': 'B', '4': '', '...\n",
       "4          {'a': {'1': '', '2': 'P', '3': '', '4': '', '5...\n",
       "                                 ...                        \n",
       "4556995    {'a': {'1': '', '2': 'P', '3': '', '4': '', '5...\n",
       "4556996    {'a': {'1': 'R', '2': 'P', '3': '', '4': '', '...\n",
       "4556997    {'a': {'1': 'R', '2': 'P', '3': '', '4': '', '...\n",
       "4556998    {'a': {'1': '', '2': '', '3': 'P', '4': '', '5...\n",
       "4556999    {'a': {'1': '', '2': '', '3': '', '4': '', '5'...\n",
       "Name: FEN, Length: 4557000, dtype: object"
      ]
     },
     "execution_count": 8,
     "metadata": {},
     "output_type": "execute_result"
    }
   ],
   "source": [
    "convert_fen_dict"
   ]
  },
  {
   "cell_type": "code",
   "execution_count": null,
   "id": "1c9ea401",
   "metadata": {},
   "outputs": [],
   "source": []
  }
 ],
 "metadata": {
  "kernelspec": {
   "display_name": "fedcsis25",
   "language": "python",
   "name": "python3"
  },
  "language_info": {
   "codemirror_mode": {
    "name": "ipython",
    "version": 3
   },
   "file_extension": ".py",
   "mimetype": "text/x-python",
   "name": "python",
   "nbconvert_exporter": "python",
   "pygments_lexer": "ipython3",
   "version": "3.11.11"
  }
 },
 "nbformat": 4,
 "nbformat_minor": 5
}
